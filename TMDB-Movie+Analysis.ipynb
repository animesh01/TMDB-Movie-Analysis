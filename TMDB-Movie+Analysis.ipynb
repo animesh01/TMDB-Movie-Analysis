{
 "cells": [
  {
   "cell_type": "markdown",
   "metadata": {},
   "source": [
    "# Project: TMDB Movie Analysis\n",
    "\n",
    "## Table of Contents\n",
    "<ul>\n",
    "<li><a href=\"#intro\">Introduction</a></li>\n",
    "<li><a href=\"#wrangling\">Data Wrangling</a></li>\n",
    "<li><a href=\"#eda\">Exploratory Data Analysis</a></li>\n",
    "<li><a href=\"#conclusions\">Conclusions</a></li>\n",
    "</ul>"
   ]
  },
  {
   "cell_type": "markdown",
   "metadata": {},
   "source": [
    "<a id='intro'></a>\n",
    "## Introduction\n",
    "\n",
    "> This data set contains information about 10,000 movies collected from The Movie Database (TMDb), including user ratings and revenue.\n",
    "Certain columns, like ‘cast’ and ‘genres’, contain multiple values separated by pipe (|) characters.\n",
    "There are some odd characters in the ‘cast’ column. \n",
    "The final two columns ending with “_adj” show the budget and revenue of the associated movie in terms of 2010 dollars, accounting for inflation over time.\n",
    "\n",
    "> We will try to address which genres are most popular from year to year and What kinds of properties are associated with movies that have high profitability?\n"
   ]
  },
  {
   "cell_type": "code",
   "execution_count": 27,
   "metadata": {
    "collapsed": true
   },
   "outputs": [],
   "source": [
    "# Import packages\n",
    "import pandas as pd\n",
    "import matplotlib.pyplot as plt\n",
    "%matplotlib inline \n",
    "import seaborn as sns"
   ]
  },
  {
   "cell_type": "markdown",
   "metadata": {},
   "source": [
    "<a id='wrangling'></a>\n",
    "## Data Wrangling\n",
    "\n",
    "### General Properties"
   ]
  },
  {
   "cell_type": "code",
   "execution_count": 28,
   "metadata": {
    "collapsed": true
   },
   "outputs": [],
   "source": [
    "# Reading the dataset into dataframe df\n",
    "df = pd.read_csv('/Users/animesh01/Desktop/Udacity-Python/Datasets/imdbmovies.csv')"
   ]
  },
  {
   "cell_type": "code",
   "execution_count": 29,
   "metadata": {},
   "outputs": [
    {
     "data": {
      "text/html": [
       "<div>\n",
       "<style>\n",
       "    .dataframe thead tr:only-child th {\n",
       "        text-align: right;\n",
       "    }\n",
       "\n",
       "    .dataframe thead th {\n",
       "        text-align: left;\n",
       "    }\n",
       "\n",
       "    .dataframe tbody tr th {\n",
       "        vertical-align: top;\n",
       "    }\n",
       "</style>\n",
       "<table border=\"1\" class=\"dataframe\">\n",
       "  <thead>\n",
       "    <tr style=\"text-align: right;\">\n",
       "      <th></th>\n",
       "      <th>id</th>\n",
       "      <th>imdb_id</th>\n",
       "      <th>popularity</th>\n",
       "      <th>budget</th>\n",
       "      <th>revenue</th>\n",
       "      <th>original_title</th>\n",
       "      <th>cast</th>\n",
       "      <th>homepage</th>\n",
       "      <th>director</th>\n",
       "      <th>tagline</th>\n",
       "      <th>...</th>\n",
       "      <th>overview</th>\n",
       "      <th>runtime</th>\n",
       "      <th>genres</th>\n",
       "      <th>production_companies</th>\n",
       "      <th>release_date</th>\n",
       "      <th>vote_count</th>\n",
       "      <th>vote_average</th>\n",
       "      <th>release_year</th>\n",
       "      <th>budget_adj</th>\n",
       "      <th>revenue_adj</th>\n",
       "    </tr>\n",
       "  </thead>\n",
       "  <tbody>\n",
       "    <tr>\n",
       "      <th>0</th>\n",
       "      <td>135397</td>\n",
       "      <td>tt0369610</td>\n",
       "      <td>32.985763</td>\n",
       "      <td>150000000</td>\n",
       "      <td>1513528810</td>\n",
       "      <td>Jurassic World</td>\n",
       "      <td>Chris Pratt|Bryce Dallas Howard|Irrfan Khan|Vi...</td>\n",
       "      <td>http://www.jurassicworld.com/</td>\n",
       "      <td>Colin Trevorrow</td>\n",
       "      <td>The park is open.</td>\n",
       "      <td>...</td>\n",
       "      <td>Twenty-two years after the events of Jurassic ...</td>\n",
       "      <td>124</td>\n",
       "      <td>Action|Adventure|Science Fiction|Thriller</td>\n",
       "      <td>Universal Studios|Amblin Entertainment|Legenda...</td>\n",
       "      <td>6/9/15</td>\n",
       "      <td>5562</td>\n",
       "      <td>6.5</td>\n",
       "      <td>2015</td>\n",
       "      <td>1.379999e+08</td>\n",
       "      <td>1.392446e+09</td>\n",
       "    </tr>\n",
       "    <tr>\n",
       "      <th>1</th>\n",
       "      <td>76341</td>\n",
       "      <td>tt1392190</td>\n",
       "      <td>28.419936</td>\n",
       "      <td>150000000</td>\n",
       "      <td>378436354</td>\n",
       "      <td>Mad Max: Fury Road</td>\n",
       "      <td>Tom Hardy|Charlize Theron|Hugh Keays-Byrne|Nic...</td>\n",
       "      <td>http://www.madmaxmovie.com/</td>\n",
       "      <td>George Miller</td>\n",
       "      <td>What a Lovely Day.</td>\n",
       "      <td>...</td>\n",
       "      <td>An apocalyptic story set in the furthest reach...</td>\n",
       "      <td>120</td>\n",
       "      <td>Action|Adventure|Science Fiction|Thriller</td>\n",
       "      <td>Village Roadshow Pictures|Kennedy Miller Produ...</td>\n",
       "      <td>5/13/15</td>\n",
       "      <td>6185</td>\n",
       "      <td>7.1</td>\n",
       "      <td>2015</td>\n",
       "      <td>1.379999e+08</td>\n",
       "      <td>3.481613e+08</td>\n",
       "    </tr>\n",
       "    <tr>\n",
       "      <th>2</th>\n",
       "      <td>262500</td>\n",
       "      <td>tt2908446</td>\n",
       "      <td>13.112507</td>\n",
       "      <td>110000000</td>\n",
       "      <td>295238201</td>\n",
       "      <td>Insurgent</td>\n",
       "      <td>Shailene Woodley|Theo James|Kate Winslet|Ansel...</td>\n",
       "      <td>http://www.thedivergentseries.movie/#insurgent</td>\n",
       "      <td>Robert Schwentke</td>\n",
       "      <td>One Choice Can Destroy You</td>\n",
       "      <td>...</td>\n",
       "      <td>Beatrice Prior must confront her inner demons ...</td>\n",
       "      <td>119</td>\n",
       "      <td>Adventure|Science Fiction|Thriller</td>\n",
       "      <td>Summit Entertainment|Mandeville Films|Red Wago...</td>\n",
       "      <td>3/18/15</td>\n",
       "      <td>2480</td>\n",
       "      <td>6.3</td>\n",
       "      <td>2015</td>\n",
       "      <td>1.012000e+08</td>\n",
       "      <td>2.716190e+08</td>\n",
       "    </tr>\n",
       "    <tr>\n",
       "      <th>3</th>\n",
       "      <td>140607</td>\n",
       "      <td>tt2488496</td>\n",
       "      <td>11.173104</td>\n",
       "      <td>200000000</td>\n",
       "      <td>2068178225</td>\n",
       "      <td>Star Wars: The Force Awakens</td>\n",
       "      <td>Harrison Ford|Mark Hamill|Carrie Fisher|Adam D...</td>\n",
       "      <td>http://www.starwars.com/films/star-wars-episod...</td>\n",
       "      <td>J.J. Abrams</td>\n",
       "      <td>Every generation has a story.</td>\n",
       "      <td>...</td>\n",
       "      <td>Thirty years after defeating the Galactic Empi...</td>\n",
       "      <td>136</td>\n",
       "      <td>Action|Adventure|Science Fiction|Fantasy</td>\n",
       "      <td>Lucasfilm|Truenorth Productions|Bad Robot</td>\n",
       "      <td>12/15/15</td>\n",
       "      <td>5292</td>\n",
       "      <td>7.5</td>\n",
       "      <td>2015</td>\n",
       "      <td>1.839999e+08</td>\n",
       "      <td>1.902723e+09</td>\n",
       "    </tr>\n",
       "    <tr>\n",
       "      <th>4</th>\n",
       "      <td>168259</td>\n",
       "      <td>tt2820852</td>\n",
       "      <td>9.335014</td>\n",
       "      <td>190000000</td>\n",
       "      <td>1506249360</td>\n",
       "      <td>Furious 7</td>\n",
       "      <td>Vin Diesel|Paul Walker|Jason Statham|Michelle ...</td>\n",
       "      <td>http://www.furious7.com/</td>\n",
       "      <td>James Wan</td>\n",
       "      <td>Vengeance Hits Home</td>\n",
       "      <td>...</td>\n",
       "      <td>Deckard Shaw seeks revenge against Dominic Tor...</td>\n",
       "      <td>137</td>\n",
       "      <td>Action|Crime|Thriller</td>\n",
       "      <td>Universal Pictures|Original Film|Media Rights ...</td>\n",
       "      <td>4/1/15</td>\n",
       "      <td>2947</td>\n",
       "      <td>7.3</td>\n",
       "      <td>2015</td>\n",
       "      <td>1.747999e+08</td>\n",
       "      <td>1.385749e+09</td>\n",
       "    </tr>\n",
       "  </tbody>\n",
       "</table>\n",
       "<p>5 rows × 21 columns</p>\n",
       "</div>"
      ],
      "text/plain": [
       "       id    imdb_id  popularity     budget     revenue  \\\n",
       "0  135397  tt0369610   32.985763  150000000  1513528810   \n",
       "1   76341  tt1392190   28.419936  150000000   378436354   \n",
       "2  262500  tt2908446   13.112507  110000000   295238201   \n",
       "3  140607  tt2488496   11.173104  200000000  2068178225   \n",
       "4  168259  tt2820852    9.335014  190000000  1506249360   \n",
       "\n",
       "                 original_title  \\\n",
       "0                Jurassic World   \n",
       "1            Mad Max: Fury Road   \n",
       "2                     Insurgent   \n",
       "3  Star Wars: The Force Awakens   \n",
       "4                     Furious 7   \n",
       "\n",
       "                                                cast  \\\n",
       "0  Chris Pratt|Bryce Dallas Howard|Irrfan Khan|Vi...   \n",
       "1  Tom Hardy|Charlize Theron|Hugh Keays-Byrne|Nic...   \n",
       "2  Shailene Woodley|Theo James|Kate Winslet|Ansel...   \n",
       "3  Harrison Ford|Mark Hamill|Carrie Fisher|Adam D...   \n",
       "4  Vin Diesel|Paul Walker|Jason Statham|Michelle ...   \n",
       "\n",
       "                                            homepage          director  \\\n",
       "0                      http://www.jurassicworld.com/   Colin Trevorrow   \n",
       "1                        http://www.madmaxmovie.com/     George Miller   \n",
       "2     http://www.thedivergentseries.movie/#insurgent  Robert Schwentke   \n",
       "3  http://www.starwars.com/films/star-wars-episod...       J.J. Abrams   \n",
       "4                           http://www.furious7.com/         James Wan   \n",
       "\n",
       "                         tagline      ...       \\\n",
       "0              The park is open.      ...        \n",
       "1             What a Lovely Day.      ...        \n",
       "2     One Choice Can Destroy You      ...        \n",
       "3  Every generation has a story.      ...        \n",
       "4            Vengeance Hits Home      ...        \n",
       "\n",
       "                                            overview runtime  \\\n",
       "0  Twenty-two years after the events of Jurassic ...     124   \n",
       "1  An apocalyptic story set in the furthest reach...     120   \n",
       "2  Beatrice Prior must confront her inner demons ...     119   \n",
       "3  Thirty years after defeating the Galactic Empi...     136   \n",
       "4  Deckard Shaw seeks revenge against Dominic Tor...     137   \n",
       "\n",
       "                                      genres  \\\n",
       "0  Action|Adventure|Science Fiction|Thriller   \n",
       "1  Action|Adventure|Science Fiction|Thriller   \n",
       "2         Adventure|Science Fiction|Thriller   \n",
       "3   Action|Adventure|Science Fiction|Fantasy   \n",
       "4                      Action|Crime|Thriller   \n",
       "\n",
       "                                production_companies release_date vote_count  \\\n",
       "0  Universal Studios|Amblin Entertainment|Legenda...       6/9/15       5562   \n",
       "1  Village Roadshow Pictures|Kennedy Miller Produ...      5/13/15       6185   \n",
       "2  Summit Entertainment|Mandeville Films|Red Wago...      3/18/15       2480   \n",
       "3          Lucasfilm|Truenorth Productions|Bad Robot     12/15/15       5292   \n",
       "4  Universal Pictures|Original Film|Media Rights ...       4/1/15       2947   \n",
       "\n",
       "   vote_average  release_year    budget_adj   revenue_adj  \n",
       "0           6.5          2015  1.379999e+08  1.392446e+09  \n",
       "1           7.1          2015  1.379999e+08  3.481613e+08  \n",
       "2           6.3          2015  1.012000e+08  2.716190e+08  \n",
       "3           7.5          2015  1.839999e+08  1.902723e+09  \n",
       "4           7.3          2015  1.747999e+08  1.385749e+09  \n",
       "\n",
       "[5 rows x 21 columns]"
      ]
     },
     "execution_count": 29,
     "metadata": {},
     "output_type": "execute_result"
    }
   ],
   "source": [
    "# Check Top 5 rows of dataframe \n",
    "df.head(5)"
   ]
  },
  {
   "cell_type": "code",
   "execution_count": 30,
   "metadata": {},
   "outputs": [
    {
     "data": {
      "text/plain": [
       "(10866, 21)"
      ]
     },
     "execution_count": 30,
     "metadata": {},
     "output_type": "execute_result"
    }
   ],
   "source": [
    "# Total rows & columns in the dataframe\n",
    "df.shape"
   ]
  },
  {
   "cell_type": "code",
   "execution_count": 31,
   "metadata": {},
   "outputs": [
    {
     "data": {
      "text/html": [
       "<div>\n",
       "<style>\n",
       "    .dataframe thead tr:only-child th {\n",
       "        text-align: right;\n",
       "    }\n",
       "\n",
       "    .dataframe thead th {\n",
       "        text-align: left;\n",
       "    }\n",
       "\n",
       "    .dataframe tbody tr th {\n",
       "        vertical-align: top;\n",
       "    }\n",
       "</style>\n",
       "<table border=\"1\" class=\"dataframe\">\n",
       "  <thead>\n",
       "    <tr style=\"text-align: right;\">\n",
       "      <th></th>\n",
       "      <th>id</th>\n",
       "      <th>popularity</th>\n",
       "      <th>budget</th>\n",
       "      <th>revenue</th>\n",
       "      <th>runtime</th>\n",
       "      <th>vote_count</th>\n",
       "      <th>vote_average</th>\n",
       "      <th>release_year</th>\n",
       "      <th>budget_adj</th>\n",
       "      <th>revenue_adj</th>\n",
       "    </tr>\n",
       "  </thead>\n",
       "  <tbody>\n",
       "    <tr>\n",
       "      <th>count</th>\n",
       "      <td>10866.000000</td>\n",
       "      <td>10866.000000</td>\n",
       "      <td>1.086600e+04</td>\n",
       "      <td>1.086600e+04</td>\n",
       "      <td>10866.000000</td>\n",
       "      <td>10866.000000</td>\n",
       "      <td>10866.000000</td>\n",
       "      <td>10866.000000</td>\n",
       "      <td>1.086600e+04</td>\n",
       "      <td>1.086600e+04</td>\n",
       "    </tr>\n",
       "    <tr>\n",
       "      <th>mean</th>\n",
       "      <td>66064.177434</td>\n",
       "      <td>0.646441</td>\n",
       "      <td>1.462570e+07</td>\n",
       "      <td>3.982332e+07</td>\n",
       "      <td>102.070863</td>\n",
       "      <td>217.389748</td>\n",
       "      <td>5.974922</td>\n",
       "      <td>2001.322658</td>\n",
       "      <td>1.755104e+07</td>\n",
       "      <td>5.136436e+07</td>\n",
       "    </tr>\n",
       "    <tr>\n",
       "      <th>std</th>\n",
       "      <td>92130.136561</td>\n",
       "      <td>1.000185</td>\n",
       "      <td>3.091321e+07</td>\n",
       "      <td>1.170035e+08</td>\n",
       "      <td>31.381405</td>\n",
       "      <td>575.619058</td>\n",
       "      <td>0.935142</td>\n",
       "      <td>12.812941</td>\n",
       "      <td>3.430616e+07</td>\n",
       "      <td>1.446325e+08</td>\n",
       "    </tr>\n",
       "    <tr>\n",
       "      <th>min</th>\n",
       "      <td>5.000000</td>\n",
       "      <td>0.000065</td>\n",
       "      <td>0.000000e+00</td>\n",
       "      <td>0.000000e+00</td>\n",
       "      <td>0.000000</td>\n",
       "      <td>10.000000</td>\n",
       "      <td>1.500000</td>\n",
       "      <td>1960.000000</td>\n",
       "      <td>0.000000e+00</td>\n",
       "      <td>0.000000e+00</td>\n",
       "    </tr>\n",
       "    <tr>\n",
       "      <th>25%</th>\n",
       "      <td>10596.250000</td>\n",
       "      <td>0.207583</td>\n",
       "      <td>0.000000e+00</td>\n",
       "      <td>0.000000e+00</td>\n",
       "      <td>90.000000</td>\n",
       "      <td>17.000000</td>\n",
       "      <td>5.400000</td>\n",
       "      <td>1995.000000</td>\n",
       "      <td>0.000000e+00</td>\n",
       "      <td>0.000000e+00</td>\n",
       "    </tr>\n",
       "    <tr>\n",
       "      <th>50%</th>\n",
       "      <td>20669.000000</td>\n",
       "      <td>0.383856</td>\n",
       "      <td>0.000000e+00</td>\n",
       "      <td>0.000000e+00</td>\n",
       "      <td>99.000000</td>\n",
       "      <td>38.000000</td>\n",
       "      <td>6.000000</td>\n",
       "      <td>2006.000000</td>\n",
       "      <td>0.000000e+00</td>\n",
       "      <td>0.000000e+00</td>\n",
       "    </tr>\n",
       "    <tr>\n",
       "      <th>75%</th>\n",
       "      <td>75610.000000</td>\n",
       "      <td>0.713817</td>\n",
       "      <td>1.500000e+07</td>\n",
       "      <td>2.400000e+07</td>\n",
       "      <td>111.000000</td>\n",
       "      <td>145.750000</td>\n",
       "      <td>6.600000</td>\n",
       "      <td>2011.000000</td>\n",
       "      <td>2.085325e+07</td>\n",
       "      <td>3.369710e+07</td>\n",
       "    </tr>\n",
       "    <tr>\n",
       "      <th>max</th>\n",
       "      <td>417859.000000</td>\n",
       "      <td>32.985763</td>\n",
       "      <td>4.250000e+08</td>\n",
       "      <td>2.781506e+09</td>\n",
       "      <td>900.000000</td>\n",
       "      <td>9767.000000</td>\n",
       "      <td>9.200000</td>\n",
       "      <td>2015.000000</td>\n",
       "      <td>4.250000e+08</td>\n",
       "      <td>2.827124e+09</td>\n",
       "    </tr>\n",
       "  </tbody>\n",
       "</table>\n",
       "</div>"
      ],
      "text/plain": [
       "                  id    popularity        budget       revenue       runtime  \\\n",
       "count   10866.000000  10866.000000  1.086600e+04  1.086600e+04  10866.000000   \n",
       "mean    66064.177434      0.646441  1.462570e+07  3.982332e+07    102.070863   \n",
       "std     92130.136561      1.000185  3.091321e+07  1.170035e+08     31.381405   \n",
       "min         5.000000      0.000065  0.000000e+00  0.000000e+00      0.000000   \n",
       "25%     10596.250000      0.207583  0.000000e+00  0.000000e+00     90.000000   \n",
       "50%     20669.000000      0.383856  0.000000e+00  0.000000e+00     99.000000   \n",
       "75%     75610.000000      0.713817  1.500000e+07  2.400000e+07    111.000000   \n",
       "max    417859.000000     32.985763  4.250000e+08  2.781506e+09    900.000000   \n",
       "\n",
       "         vote_count  vote_average  release_year    budget_adj   revenue_adj  \n",
       "count  10866.000000  10866.000000  10866.000000  1.086600e+04  1.086600e+04  \n",
       "mean     217.389748      5.974922   2001.322658  1.755104e+07  5.136436e+07  \n",
       "std      575.619058      0.935142     12.812941  3.430616e+07  1.446325e+08  \n",
       "min       10.000000      1.500000   1960.000000  0.000000e+00  0.000000e+00  \n",
       "25%       17.000000      5.400000   1995.000000  0.000000e+00  0.000000e+00  \n",
       "50%       38.000000      6.000000   2006.000000  0.000000e+00  0.000000e+00  \n",
       "75%      145.750000      6.600000   2011.000000  2.085325e+07  3.369710e+07  \n",
       "max     9767.000000      9.200000   2015.000000  4.250000e+08  2.827124e+09  "
      ]
     },
     "execution_count": 31,
     "metadata": {},
     "output_type": "execute_result"
    }
   ],
   "source": [
    "# Summary statistics by column\n",
    "df.describe()"
   ]
  },
  {
   "cell_type": "code",
   "execution_count": 32,
   "metadata": {},
   "outputs": [
    {
     "name": "stdout",
     "output_type": "stream",
     "text": [
      "<class 'pandas.core.frame.DataFrame'>\n",
      "RangeIndex: 10866 entries, 0 to 10865\n",
      "Data columns (total 21 columns):\n",
      "id                      10866 non-null int64\n",
      "imdb_id                 10856 non-null object\n",
      "popularity              10866 non-null float64\n",
      "budget                  10866 non-null int64\n",
      "revenue                 10866 non-null int64\n",
      "original_title          10866 non-null object\n",
      "cast                    10790 non-null object\n",
      "homepage                2936 non-null object\n",
      "director                10822 non-null object\n",
      "tagline                 8042 non-null object\n",
      "keywords                9373 non-null object\n",
      "overview                10862 non-null object\n",
      "runtime                 10866 non-null int64\n",
      "genres                  10843 non-null object\n",
      "production_companies    9836 non-null object\n",
      "release_date            10866 non-null object\n",
      "vote_count              10866 non-null int64\n",
      "vote_average            10866 non-null float64\n",
      "release_year            10866 non-null int64\n",
      "budget_adj              10866 non-null float64\n",
      "revenue_adj             10866 non-null float64\n",
      "dtypes: float64(4), int64(6), object(11)\n",
      "memory usage: 1.7+ MB\n"
     ]
    }
   ],
   "source": [
    "# Column information by datatype\n",
    "df.info()"
   ]
  },
  {
   "cell_type": "markdown",
   "metadata": {},
   "source": [
    "### Data Cleaning"
   ]
  },
  {
   "cell_type": "code",
   "execution_count": 33,
   "metadata": {},
   "outputs": [],
   "source": [
    "# Dropping unrequired columns from the dataframe \n",
    "df.drop(['id','imdb_id','tagline','keywords','overview','homepage'], axis=1, inplace=True)"
   ]
  },
  {
   "cell_type": "code",
   "execution_count": 34,
   "metadata": {},
   "outputs": [
    {
     "data": {
      "text/plain": [
       "(10866, 15)"
      ]
     },
     "execution_count": 34,
     "metadata": {},
     "output_type": "execute_result"
    }
   ],
   "source": [
    "# Column information by datatype\n",
    "df.shape"
   ]
  },
  {
   "cell_type": "code",
   "execution_count": 35,
   "metadata": {
    "collapsed": true
   },
   "outputs": [],
   "source": [
    "# Dropping rows with NA values in the dataframe\n",
    "df = df.dropna(how='any',axis=0) "
   ]
  },
  {
   "cell_type": "code",
   "execution_count": 24,
   "metadata": {},
   "outputs": [
    {
     "name": "stdout",
     "output_type": "stream",
     "text": [
      "<class 'pandas.core.frame.DataFrame'>\n",
      "Int64Index: 9773 entries, 0 to 10865\n",
      "Data columns (total 15 columns):\n",
      "popularity              9773 non-null float64\n",
      "budget                  9773 non-null int64\n",
      "revenue                 9773 non-null int64\n",
      "original_title          9773 non-null object\n",
      "cast                    9773 non-null object\n",
      "director                9773 non-null object\n",
      "runtime                 9773 non-null int64\n",
      "genres                  9773 non-null object\n",
      "production_companies    9773 non-null object\n",
      "release_date            9773 non-null object\n",
      "vote_count              9773 non-null int64\n",
      "vote_average            9773 non-null float64\n",
      "release_year            9773 non-null int64\n",
      "budget_adj              9773 non-null float64\n",
      "revenue_adj             9773 non-null float64\n",
      "dtypes: float64(4), int64(5), object(6)\n",
      "memory usage: 1.2+ MB\n"
     ]
    }
   ],
   "source": [
    "# Column information by datatype\n",
    "df.info()"
   ]
  },
  {
   "cell_type": "code",
   "execution_count": 36,
   "metadata": {},
   "outputs": [
    {
     "data": {
      "text/html": [
       "<div>\n",
       "<style>\n",
       "    .dataframe thead tr:only-child th {\n",
       "        text-align: right;\n",
       "    }\n",
       "\n",
       "    .dataframe thead th {\n",
       "        text-align: left;\n",
       "    }\n",
       "\n",
       "    .dataframe tbody tr th {\n",
       "        vertical-align: top;\n",
       "    }\n",
       "</style>\n",
       "<table border=\"1\" class=\"dataframe\">\n",
       "  <thead>\n",
       "    <tr style=\"text-align: right;\">\n",
       "      <th></th>\n",
       "      <th>popularity</th>\n",
       "      <th>budget</th>\n",
       "      <th>revenue</th>\n",
       "      <th>runtime</th>\n",
       "      <th>vote_count</th>\n",
       "      <th>vote_average</th>\n",
       "      <th>release_year</th>\n",
       "      <th>budget_adj</th>\n",
       "      <th>revenue_adj</th>\n",
       "    </tr>\n",
       "  </thead>\n",
       "  <tbody>\n",
       "    <tr>\n",
       "      <th>count</th>\n",
       "      <td>9773.000000</td>\n",
       "      <td>9.773000e+03</td>\n",
       "      <td>9.773000e+03</td>\n",
       "      <td>9773.000000</td>\n",
       "      <td>9773.000000</td>\n",
       "      <td>9773.000000</td>\n",
       "      <td>9773.000000</td>\n",
       "      <td>9.773000e+03</td>\n",
       "      <td>9.773000e+03</td>\n",
       "    </tr>\n",
       "    <tr>\n",
       "      <th>mean</th>\n",
       "      <td>0.694711</td>\n",
       "      <td>1.618108e+07</td>\n",
       "      <td>4.422678e+07</td>\n",
       "      <td>102.925509</td>\n",
       "      <td>239.298782</td>\n",
       "      <td>5.963430</td>\n",
       "      <td>2000.879362</td>\n",
       "      <td>1.941707e+07</td>\n",
       "      <td>5.704735e+07</td>\n",
       "    </tr>\n",
       "    <tr>\n",
       "      <th>std</th>\n",
       "      <td>1.036879</td>\n",
       "      <td>3.220939e+07</td>\n",
       "      <td>1.225834e+08</td>\n",
       "      <td>27.876224</td>\n",
       "      <td>602.982068</td>\n",
       "      <td>0.913179</td>\n",
       "      <td>13.036453</td>\n",
       "      <td>3.566467e+07</td>\n",
       "      <td>1.514432e+08</td>\n",
       "    </tr>\n",
       "    <tr>\n",
       "      <th>min</th>\n",
       "      <td>0.000188</td>\n",
       "      <td>0.000000e+00</td>\n",
       "      <td>0.000000e+00</td>\n",
       "      <td>0.000000</td>\n",
       "      <td>10.000000</td>\n",
       "      <td>1.500000</td>\n",
       "      <td>1960.000000</td>\n",
       "      <td>0.000000e+00</td>\n",
       "      <td>0.000000e+00</td>\n",
       "    </tr>\n",
       "    <tr>\n",
       "      <th>25%</th>\n",
       "      <td>0.232756</td>\n",
       "      <td>0.000000e+00</td>\n",
       "      <td>0.000000e+00</td>\n",
       "      <td>90.000000</td>\n",
       "      <td>18.000000</td>\n",
       "      <td>5.400000</td>\n",
       "      <td>1994.000000</td>\n",
       "      <td>0.000000e+00</td>\n",
       "      <td>0.000000e+00</td>\n",
       "    </tr>\n",
       "    <tr>\n",
       "      <th>50%</th>\n",
       "      <td>0.419765</td>\n",
       "      <td>2.000000e+05</td>\n",
       "      <td>0.000000e+00</td>\n",
       "      <td>100.000000</td>\n",
       "      <td>46.000000</td>\n",
       "      <td>6.000000</td>\n",
       "      <td>2005.000000</td>\n",
       "      <td>3.114254e+05</td>\n",
       "      <td>0.000000e+00</td>\n",
       "    </tr>\n",
       "    <tr>\n",
       "      <th>75%</th>\n",
       "      <td>0.776380</td>\n",
       "      <td>1.940000e+07</td>\n",
       "      <td>3.104204e+07</td>\n",
       "      <td>112.000000</td>\n",
       "      <td>173.000000</td>\n",
       "      <td>6.600000</td>\n",
       "      <td>2011.000000</td>\n",
       "      <td>2.469335e+07</td>\n",
       "      <td>4.311344e+07</td>\n",
       "    </tr>\n",
       "    <tr>\n",
       "      <th>max</th>\n",
       "      <td>32.985763</td>\n",
       "      <td>4.250000e+08</td>\n",
       "      <td>2.781506e+09</td>\n",
       "      <td>877.000000</td>\n",
       "      <td>9767.000000</td>\n",
       "      <td>8.700000</td>\n",
       "      <td>2015.000000</td>\n",
       "      <td>4.250000e+08</td>\n",
       "      <td>2.827124e+09</td>\n",
       "    </tr>\n",
       "  </tbody>\n",
       "</table>\n",
       "</div>"
      ],
      "text/plain": [
       "        popularity        budget       revenue      runtime   vote_count  \\\n",
       "count  9773.000000  9.773000e+03  9.773000e+03  9773.000000  9773.000000   \n",
       "mean      0.694711  1.618108e+07  4.422678e+07   102.925509   239.298782   \n",
       "std       1.036879  3.220939e+07  1.225834e+08    27.876224   602.982068   \n",
       "min       0.000188  0.000000e+00  0.000000e+00     0.000000    10.000000   \n",
       "25%       0.232756  0.000000e+00  0.000000e+00    90.000000    18.000000   \n",
       "50%       0.419765  2.000000e+05  0.000000e+00   100.000000    46.000000   \n",
       "75%       0.776380  1.940000e+07  3.104204e+07   112.000000   173.000000   \n",
       "max      32.985763  4.250000e+08  2.781506e+09   877.000000  9767.000000   \n",
       "\n",
       "       vote_average  release_year    budget_adj   revenue_adj  \n",
       "count   9773.000000   9773.000000  9.773000e+03  9.773000e+03  \n",
       "mean       5.963430   2000.879362  1.941707e+07  5.704735e+07  \n",
       "std        0.913179     13.036453  3.566467e+07  1.514432e+08  \n",
       "min        1.500000   1960.000000  0.000000e+00  0.000000e+00  \n",
       "25%        5.400000   1994.000000  0.000000e+00  0.000000e+00  \n",
       "50%        6.000000   2005.000000  3.114254e+05  0.000000e+00  \n",
       "75%        6.600000   2011.000000  2.469335e+07  4.311344e+07  \n",
       "max        8.700000   2015.000000  4.250000e+08  2.827124e+09  "
      ]
     },
     "execution_count": 36,
     "metadata": {},
     "output_type": "execute_result"
    }
   ],
   "source": [
    "# Summary statistics on the updated dataframe\n",
    "df.describe()"
   ]
  },
  {
   "cell_type": "markdown",
   "metadata": {},
   "source": [
    "<a id='eda'></a>\n",
    "## Exploratory Data Analysis"
   ]
  },
  {
   "cell_type": "markdown",
   "metadata": {},
   "source": [
    "### Univariate Analysis"
   ]
  },
  {
   "cell_type": "code",
   "execution_count": 188,
   "metadata": {},
   "outputs": [
    {
     "data": {
      "image/png": "[encoded data removed]",
      "text/plain": [
       "<matplotlib.figure.Figure at 0x11a2ef710>"
      ]
     },
     "metadata": {},
     "output_type": "display_data"
    }
   ],
   "source": [
    "# Histogram visualization to check the distribution for the numerical values in the dataframe\n",
    "df.hist(bins=20, color='steelblue', edgecolor='black', linewidth=1.0,\n",
    "           xlabelsize=8, ylabelsize=8, grid=False)    \n",
    "plt.tight_layout(rect=(0, 0, 1.2, 1.2))   "
   ]
  },
  {
   "cell_type": "markdown",
   "metadata": {},
   "source": [
    "> **Observation**: We can observe that most of the univariate distributions are assymetric. The attributes in our analysis are highly left or right skewed distribution. Right skewed distribution (Positive skewness) include following variables: budget, budget_adj, popularity, revenue, revenue_adj, runtime & vote_count. Left skewed distribution (Negative Skewness) includes release_year variable. vote_average seems normally distributed."
   ]
  },
  {
   "cell_type": "markdown",
   "metadata": {},
   "source": [
    "### Multivariate Analysis"
   ]
  },
  {
   "cell_type": "code",
   "execution_count": 127,
   "metadata": {},
   "outputs": [
    {
     "data": {
      "text/html": [
       "<div>\n",
       "<style>\n",
       "    .dataframe thead tr:only-child th {\n",
       "        text-align: right;\n",
       "    }\n",
       "\n",
       "    .dataframe thead th {\n",
       "        text-align: left;\n",
       "    }\n",
       "\n",
       "    .dataframe tbody tr th {\n",
       "        vertical-align: top;\n",
       "    }\n",
       "</style>\n",
       "<table border=\"1\" class=\"dataframe\">\n",
       "  <thead>\n",
       "    <tr style=\"text-align: right;\">\n",
       "      <th></th>\n",
       "      <th>popularity</th>\n",
       "      <th>budget</th>\n",
       "      <th>revenue</th>\n",
       "      <th>runtime</th>\n",
       "      <th>vote_count</th>\n",
       "      <th>vote_average</th>\n",
       "      <th>release_year</th>\n",
       "      <th>budget_adj</th>\n",
       "      <th>revenue_adj</th>\n",
       "    </tr>\n",
       "  </thead>\n",
       "  <tbody>\n",
       "    <tr>\n",
       "      <th>popularity</th>\n",
       "      <td>1.000000</td>\n",
       "      <td>0.538911</td>\n",
       "      <td>0.662404</td>\n",
       "      <td>0.156293</td>\n",
       "      <td>0.802956</td>\n",
       "      <td>0.239118</td>\n",
       "      <td>0.110935</td>\n",
       "      <td>0.505372</td>\n",
       "      <td>0.606457</td>\n",
       "    </tr>\n",
       "    <tr>\n",
       "      <th>budget</th>\n",
       "      <td>0.538911</td>\n",
       "      <td>1.000000</td>\n",
       "      <td>0.731176</td>\n",
       "      <td>0.214271</td>\n",
       "      <td>0.627051</td>\n",
       "      <td>0.095998</td>\n",
       "      <td>0.138265</td>\n",
       "      <td>0.968314</td>\n",
       "      <td>0.616300</td>\n",
       "    </tr>\n",
       "    <tr>\n",
       "      <th>revenue</th>\n",
       "      <td>0.662404</td>\n",
       "      <td>0.731176</td>\n",
       "      <td>1.000000</td>\n",
       "      <td>0.183305</td>\n",
       "      <td>0.788534</td>\n",
       "      <td>0.192052</td>\n",
       "      <td>0.071711</td>\n",
       "      <td>0.702347</td>\n",
       "      <td>0.918033</td>\n",
       "    </tr>\n",
       "    <tr>\n",
       "      <th>runtime</th>\n",
       "      <td>0.156293</td>\n",
       "      <td>0.214271</td>\n",
       "      <td>0.183305</td>\n",
       "      <td>1.000000</td>\n",
       "      <td>0.184291</td>\n",
       "      <td>0.194003</td>\n",
       "      <td>-0.133816</td>\n",
       "      <td>0.249119</td>\n",
       "      <td>0.198319</td>\n",
       "    </tr>\n",
       "    <tr>\n",
       "      <th>vote_count</th>\n",
       "      <td>0.802956</td>\n",
       "      <td>0.627051</td>\n",
       "      <td>0.788534</td>\n",
       "      <td>0.184291</td>\n",
       "      <td>1.000000</td>\n",
       "      <td>0.279858</td>\n",
       "      <td>0.124707</td>\n",
       "      <td>0.580433</td>\n",
       "      <td>0.704045</td>\n",
       "    </tr>\n",
       "    <tr>\n",
       "      <th>vote_average</th>\n",
       "      <td>0.239118</td>\n",
       "      <td>0.095998</td>\n",
       "      <td>0.192052</td>\n",
       "      <td>0.194003</td>\n",
       "      <td>0.279858</td>\n",
       "      <td>1.000000</td>\n",
       "      <td>-0.140110</td>\n",
       "      <td>0.109750</td>\n",
       "      <td>0.214695</td>\n",
       "    </tr>\n",
       "    <tr>\n",
       "      <th>release_year</th>\n",
       "      <td>0.110935</td>\n",
       "      <td>0.138265</td>\n",
       "      <td>0.071711</td>\n",
       "      <td>-0.133816</td>\n",
       "      <td>0.124707</td>\n",
       "      <td>-0.140110</td>\n",
       "      <td>1.000000</td>\n",
       "      <td>0.036122</td>\n",
       "      <td>-0.056329</td>\n",
       "    </tr>\n",
       "    <tr>\n",
       "      <th>budget_adj</th>\n",
       "      <td>0.505372</td>\n",
       "      <td>0.968314</td>\n",
       "      <td>0.702347</td>\n",
       "      <td>0.249119</td>\n",
       "      <td>0.580433</td>\n",
       "      <td>0.109750</td>\n",
       "      <td>0.036122</td>\n",
       "      <td>1.000000</td>\n",
       "      <td>0.640833</td>\n",
       "    </tr>\n",
       "    <tr>\n",
       "      <th>revenue_adj</th>\n",
       "      <td>0.606457</td>\n",
       "      <td>0.616300</td>\n",
       "      <td>0.918033</td>\n",
       "      <td>0.198319</td>\n",
       "      <td>0.704045</td>\n",
       "      <td>0.214695</td>\n",
       "      <td>-0.056329</td>\n",
       "      <td>0.640833</td>\n",
       "      <td>1.000000</td>\n",
       "    </tr>\n",
       "  </tbody>\n",
       "</table>\n",
       "</div>"
      ],
      "text/plain": [
       "              popularity    budget   revenue   runtime  vote_count  \\\n",
       "popularity      1.000000  0.538911  0.662404  0.156293    0.802956   \n",
       "budget          0.538911  1.000000  0.731176  0.214271    0.627051   \n",
       "revenue         0.662404  0.731176  1.000000  0.183305    0.788534   \n",
       "runtime         0.156293  0.214271  0.183305  1.000000    0.184291   \n",
       "vote_count      0.802956  0.627051  0.788534  0.184291    1.000000   \n",
       "vote_average    0.239118  0.095998  0.192052  0.194003    0.279858   \n",
       "release_year    0.110935  0.138265  0.071711 -0.133816    0.124707   \n",
       "budget_adj      0.505372  0.968314  0.702347  0.249119    0.580433   \n",
       "revenue_adj     0.606457  0.616300  0.918033  0.198319    0.704045   \n",
       "\n",
       "              vote_average  release_year  budget_adj  revenue_adj  \n",
       "popularity        0.239118      0.110935    0.505372     0.606457  \n",
       "budget            0.095998      0.138265    0.968314     0.616300  \n",
       "revenue           0.192052      0.071711    0.702347     0.918033  \n",
       "runtime           0.194003     -0.133816    0.249119     0.198319  \n",
       "vote_count        0.279858      0.124707    0.580433     0.704045  \n",
       "vote_average      1.000000     -0.140110    0.109750     0.214695  \n",
       "release_year     -0.140110      1.000000    0.036122    -0.056329  \n",
       "budget_adj        0.109750      0.036122    1.000000     0.640833  \n",
       "revenue_adj       0.214695     -0.056329    0.640833     1.000000  "
      ]
     },
     "execution_count": 127,
     "metadata": {},
     "output_type": "execute_result"
    }
   ],
   "source": [
    "# Correlation matrix\n",
    "corrmat = df.corr()\n",
    "corrmat"
   ]
  },
  {
   "cell_type": "code",
   "execution_count": 168,
   "metadata": {},
   "outputs": [
    {
     "data": {
      "text/plain": [
       "<matplotlib.axes._subplots.AxesSubplot at 0x171db1860>"
      ]
     },
     "execution_count": 168,
     "metadata": {},
     "output_type": "execute_result"
    },
    {
     "data": {
      "image/png": "[encoded data removed]",
      "text/plain": [
       "<matplotlib.figure.Figure at 0x171575f60>"
      ]
     },
     "metadata": {},
     "output_type": "display_data"
    }
   ],
   "source": [
    "# Visualizing Correlation Matrix to observe the correlation between the variables\n",
    "corr = df_corr.corr()\n",
    "sns.heatmap(corr)"
   ]
  },
  {
   "cell_type": "markdown",
   "metadata": {},
   "source": [
    "> **Observation** : After visualizing the corrmat dataframe we can observe that popularity is highly correlated with vote_count, revenue & revenue_adj. Therefore considering popularity and revenue as the initial metrics for the exploratory analysis could be a good starting point. For our analysis we will be using revenue_adj to consider the inflation rate as of 2010."
   ]
  },
  {
   "cell_type": "markdown",
   "metadata": {},
   "source": [
    "### Research Question 1 : What is the relationship between revenue, budget and gross margin ?"
   ]
  },
  {
   "cell_type": "code",
   "execution_count": 38,
   "metadata": {
    "collapsed": true
   },
   "outputs": [],
   "source": [
    "# Grouping data by release year on revenue_adj, budget_adj and popularity\n",
    "df1=df.groupby('release_year',as_index=False).agg({\"revenue_adj\": \"sum\",\"budget_adj\": \"sum\",\"popularity\":\"max\"})"
   ]
  },
  {
   "cell_type": "code",
   "execution_count": 212,
   "metadata": {
    "collapsed": true
   },
   "outputs": [],
   "source": [
    "# Calculate gross margin \n",
    "df1['gross_margin'] = df1['revenue_adj']-df1['budget_adj']"
   ]
  },
  {
   "cell_type": "code",
   "execution_count": 41,
   "metadata": {},
   "outputs": [
    {
     "data": {
      "text/plain": [
       "<matplotlib.text.Text at 0x112981dd8>"
      ]
     },
     "execution_count": 41,
     "metadata": {},
     "output_type": "execute_result"
    },
    {
     "data": {
      "image/png": "[encoded data removed]",
      "text/plain": [
       "<matplotlib.figure.Figure at 0x1145366d8>"
      ]
     },
     "metadata": {},
     "output_type": "display_data"
    }
   ],
   "source": [
    "# Linechart visualization to compare revenue, budget and gross margin by year\n",
    "plt.plot(df1.release_year,df1.revenue_adj,color=\"blue\")\n",
    "plt.plot(df1.release_year,df1.budget_adj,color=\"red\")\n",
    "plt.plot(df1.release_year,df1.gross_margin,color=\"green\")\n",
    "plt.xlabel('Year')\n",
    "plt.ylabel('Revenue in US$')\n",
    "plt.title('Revenue vs Budget Across Years')"
   ]
  },
  {
   "cell_type": "markdown",
   "metadata": {},
   "source": [
    "> **Observation**: From the above visualization we infer that across the years (1960's to 2010 and later) popularity for movies have drastically improved. \n",
    "> We also observe that the budget for movies have increased after 1990 but has shown a decline after 2010 but still the gross margin has constantly scaled up with popularity. However, in 2000 we also observe that the gross margin was even lower compared to the budget an interesting dip considering across the years gross margin was always higher than the budget."
   ]
  },
  {
   "cell_type": "markdown",
   "metadata": {},
   "source": [
    "### Research Question 2 : Which year had the most popular movies ?"
   ]
  },
  {
   "cell_type": "code",
   "execution_count": 119,
   "metadata": {},
   "outputs": [
    {
     "name": "stdout",
     "output_type": "stream",
     "text": [
      "    release_year   revenue_adj    budget_adj  popularity  gross_margin\n",
      "55          2015  2.461912e+10  6.984589e+09   32.985763  1.763453e+10\n",
      "54          2014  2.240982e+10  7.284311e+09   24.949134  1.512551e+10\n",
      "17          1977  7.845261e+09  5.813295e+08   12.037933  7.263931e+09\n",
      "49          2009  2.253887e+10  8.691031e+09    9.432768  1.384784e+10\n",
      "50          2010  2.195663e+10  9.361846e+09    9.363643  1.259478e+10\n"
     ]
    }
   ],
   "source": [
    "# Top 5 years by popularity of movies\n",
    "print (df1.nlargest(5, 'popularity')) "
   ]
  },
  {
   "cell_type": "code",
   "execution_count": 120,
   "metadata": {},
   "outputs": [
    {
     "name": "stdout",
     "output_type": "stream",
     "text": [
      "    release_year   revenue_adj    budget_adj  popularity  gross_margin\n",
      "55          2015  2.461912e+10  6.984589e+09   32.985763  1.763453e+10\n",
      "52          2012  2.339574e+10  7.842783e+09    7.637767  1.555295e+10\n",
      "54          2014  2.240982e+10  7.284311e+09   24.949134  1.512551e+10\n",
      "53          2013  2.312077e+10  8.614895e+09    6.112766  1.450587e+10\n",
      "51          2011  2.296380e+10  8.701888e+09    7.959228  1.426191e+10\n"
     ]
    }
   ],
   "source": [
    "# Top 5 years by profitability of movies\n",
    "print (df1.nlargest(5, 'gross_margin')) "
   ]
  },
  {
   "cell_type": "markdown",
   "metadata": {},
   "source": [
    "### Research Question 3 : Which year had the most popular genre?"
   ]
  },
  {
   "cell_type": "code",
   "execution_count": 123,
   "metadata": {
    "collapsed": true
   },
   "outputs": [],
   "source": [
    "# Grouping release year, original title and genre by revenue_adj, budget_adj\n",
    "df2=df.groupby(['release_year','original_title','genres','director','production_companies','cast'],as_index=False).agg({\"revenue_adj\": \"sum\",\"budget_adj\": \"sum\",\"popularity\":\"max\"})"
   ]
  },
  {
   "cell_type": "code",
   "execution_count": 124,
   "metadata": {},
   "outputs": [
    {
     "name": "stdout",
     "output_type": "stream",
     "text": [
      "      release_year                         original_title  \\\n",
      "9447          2015                         Jurassic World   \n",
      "9485          2015                     Mad Max: Fury Road   \n",
      "8817          2014                           Interstellar   \n",
      "8780          2014                Guardians of the Galaxy   \n",
      "9429          2015                              Insurgent   \n",
      "8689          2014    Captain America: The Winter Soldier   \n",
      "702           1977                              Star Wars   \n",
      "8838          2014                              John Wick   \n",
      "9599          2015           Star Wars: The Force Awakens   \n",
      "9091          2014  The Hunger Games: Mockingjay - Part 1   \n",
      "\n",
      "                                         genres                     director  \\\n",
      "9447  Action|Adventure|Science Fiction|Thriller              Colin Trevorrow   \n",
      "9485  Action|Adventure|Science Fiction|Thriller                George Miller   \n",
      "8817            Adventure|Drama|Science Fiction            Christopher Nolan   \n",
      "8780           Action|Science Fiction|Adventure                   James Gunn   \n",
      "9429         Adventure|Science Fiction|Thriller             Robert Schwentke   \n",
      "8689           Action|Adventure|Science Fiction      Joe Russo|Anthony Russo   \n",
      "702            Adventure|Action|Science Fiction                 George Lucas   \n",
      "8838                            Action|Thriller  Chad Stahelski|David Leitch   \n",
      "9599   Action|Adventure|Science Fiction|Fantasy                  J.J. Abrams   \n",
      "9091         Science Fiction|Adventure|Thriller             Francis Lawrence   \n",
      "\n",
      "                                   production_companies  \\\n",
      "9447  Universal Studios|Amblin Entertainment|Legenda...   \n",
      "9485  Village Roadshow Pictures|Kennedy Miller Produ...   \n",
      "8817  Paramount Pictures|Legendary Pictures|Warner B...   \n",
      "8780  Marvel Studios|Moving Picture Company (MPC)|Bu...   \n",
      "9429  Summit Entertainment|Mandeville Films|Red Wago...   \n",
      "8689                                     Marvel Studios   \n",
      "702    Lucasfilm|Twentieth Century Fox Film Corporation   \n",
      "8838  Thunder Road Pictures|Warner Bros.|87Eleven|De...   \n",
      "9599          Lucasfilm|Truenorth Productions|Bad Robot   \n",
      "9091                              Lionsgate|Color Force   \n",
      "\n",
      "                                                   cast   revenue_adj  \\\n",
      "9447  Chris Pratt|Bryce Dallas Howard|Irrfan Khan|Vi...  1.392446e+09   \n",
      "9485  Tom Hardy|Charlize Theron|Hugh Keays-Byrne|Nic...  3.481613e+08   \n",
      "8817  Matthew McConaughey|Jessica Chastain|Anne Hath...  5.726906e+08   \n",
      "8780  Chris Pratt|Zoe Saldana|Dave Bautista|Vin Dies...  7.122911e+08   \n",
      "9429  Shailene Woodley|Theo James|Kate Winslet|Ansel...  2.716190e+08   \n",
      "8689  Chris Evans|Scarlett Johansson|Sebastian Stan|...  6.583651e+08   \n",
      "702   Mark Hamill|Harrison Ford|Carrie Fisher|Peter ...  2.789712e+09   \n",
      "8838  Keanu Reeves|Michael Nyqvist|Alfie Allen|Wille...  7.252661e+07   \n",
      "9599  Harrison Ford|Mark Hamill|Carrie Fisher|Adam D...  1.902723e+09   \n",
      "9091  Jennifer Lawrence|Josh Hutcherson|Liam Hemswor...  6.927528e+08   \n",
      "\n",
      "        budget_adj  popularity  \n",
      "9447  1.379999e+08   32.985763  \n",
      "9485  1.379999e+08   28.419936  \n",
      "8817  1.519800e+08   24.949134  \n",
      "8780  1.565855e+08   14.311205  \n",
      "9429  1.012000e+08   13.112507  \n",
      "8689  1.565855e+08   12.971027  \n",
      "702   3.957559e+07   12.037933  \n",
      "8838  1.842182e+07   11.422751  \n",
      "9599  1.839999e+08   11.173104  \n",
      "9091  1.151364e+08   10.739009  \n"
     ]
    }
   ],
   "source": [
    "# Top 10 movies by popularity\n",
    "df3=df2.nlargest(10,'popularity')\n",
    "print(df3)"
   ]
  },
  {
   "cell_type": "code",
   "execution_count": 125,
   "metadata": {},
   "outputs": [
    {
     "name": "stdout",
     "output_type": "stream",
     "text": [
      "      release_year                  original_title  \\\n",
      "702           1977                       Star Wars   \n",
      "6206          2009                          Avatar   \n",
      "3087          1997                         Titanic   \n",
      "513           1973                    The Exorcist   \n",
      "592           1975                            Jaws   \n",
      "1005          1982      E.T. the Extra-Terrestrial   \n",
      "9599          2015    Star Wars: The Force Awakens   \n",
      "2703          1995                         The Net   \n",
      "43            1961  One Hundred and One Dalmatians   \n",
      "892           1980         The Empire Strikes Back   \n",
      "\n",
      "                                        genres  \\\n",
      "702           Adventure|Action|Science Fiction   \n",
      "6206  Action|Adventure|Fantasy|Science Fiction   \n",
      "3087                    Drama|Romance|Thriller   \n",
      "513                      Drama|Horror|Thriller   \n",
      "592                  Horror|Thriller|Adventure   \n",
      "1005  Science Fiction|Adventure|Family|Fantasy   \n",
      "9599  Action|Adventure|Science Fiction|Fantasy   \n",
      "2703       Crime|Drama|Mystery|Thriller|Action   \n",
      "43           Adventure|Animation|Comedy|Family   \n",
      "892           Adventure|Action|Science Fiction   \n",
      "\n",
      "                                               director  \\\n",
      "702                                        George Lucas   \n",
      "6206                                      James Cameron   \n",
      "3087                                      James Cameron   \n",
      "513                                    William Friedkin   \n",
      "592                                    Steven Spielberg   \n",
      "1005                                   Steven Spielberg   \n",
      "9599                                        J.J. Abrams   \n",
      "2703                                      Irwin Winkler   \n",
      "43    Clyde Geronimi|Hamilton Luske|Wolfgang Reitherman   \n",
      "892                                      Irvin Kershner   \n",
      "\n",
      "                                   production_companies  \\\n",
      "702    Lucasfilm|Twentieth Century Fox Film Corporation   \n",
      "6206  Ingenious Film Partners|Twentieth Century Fox ...   \n",
      "3087  Paramount Pictures|Twentieth Century Fox Film ...   \n",
      "513                       Warner Bros.|Hoya Productions   \n",
      "592         Universal Pictures|Zanuck/Brown Productions   \n",
      "1005            Universal Pictures|Amblin Entertainment   \n",
      "9599          Lucasfilm|Truenorth Productions|Bad Robot   \n",
      "2703                                  Columbia Pictures   \n",
      "43                              Walt Disney Productions   \n",
      "892    Lucasfilm|Twentieth Century Fox Film Corporation   \n",
      "\n",
      "                                                   cast   revenue_adj  \\\n",
      "702   Mark Hamill|Harrison Ford|Carrie Fisher|Peter ...  2.789712e+09   \n",
      "6206  Sam Worthington|Zoe Saldana|Sigourney Weaver|S...  2.827124e+09   \n",
      "3087  Kate Winslet|Leonardo DiCaprio|Frances Fisher|...  2.506406e+09   \n",
      "513   Linda Blair|Max von Sydow|Ellen Burstyn|Jason ...  2.167325e+09   \n",
      "592   Roy Scheider|Robert Shaw|Richard Dreyfuss|Lorr...  1.907006e+09   \n",
      "1005  Henry Thomas|Drew Barrymore|Robert MacNaughton...  1.791694e+09   \n",
      "9599  Harrison Ford|Mark Hamill|Carrie Fisher|Adam D...  1.902723e+09   \n",
      "2703  Sandra Bullock|Jeremy Northam|Dennis Miller|We...  1.583050e+09   \n",
      "43    Rod Taylor|J. Pat O'Malley|Betty Lou Gerson|Ma...  1.574815e+09   \n",
      "892   Mark Hamill|Harrison Ford|Carrie Fisher|Billy ...  1.424626e+09   \n",
      "\n",
      "        budget_adj  popularity  gross_margin  \n",
      "702   3.957559e+07   12.037933  2.750137e+09  \n",
      "6206  2.408869e+08    9.432768  2.586237e+09  \n",
      "3087  2.716921e+08    4.355219  2.234714e+09  \n",
      "513   3.928928e+07    2.010733  2.128036e+09  \n",
      "592   2.836275e+07    2.563191  1.878643e+09  \n",
      "1005  2.372625e+07    2.900556  1.767968e+09  \n",
      "9599  1.839999e+08   11.173104  1.718723e+09  \n",
      "2703  3.148127e+07    1.136610  1.551568e+09  \n",
      "43    2.917944e+07    2.631987  1.545635e+09  \n",
      "892   4.762866e+07    5.488441  1.376998e+09  \n"
     ]
    }
   ],
   "source": [
    "# Top 10 movies by gross_margin\n",
    "df2['gross_margin']=df2['revenue_adj']-df2['budget_adj']\n",
    "df_gm=df2.nlargest(10,'gross_margin')\n",
    "print(df_gm)"
   ]
  },
  {
   "cell_type": "markdown",
   "metadata": {},
   "source": [
    "> We can infer that popularity metric has scaled over time but highest grossing movies (Evaluated based on gross margin) have featured earlier than the year 2000. "
   ]
  },
  {
   "cell_type": "code",
   "execution_count": 44,
   "metadata": {
    "collapsed": true
   },
   "outputs": [],
   "source": [
    "# Grouping release year and genre by popularity\n",
    "df4=df.groupby(['release_year','genres']).agg({\"popularity\":\"mean\"})"
   ]
  },
  {
   "cell_type": "code",
   "execution_count": 66,
   "metadata": {},
   "outputs": [
    {
     "data": {
      "text/html": [
       "<div>\n",
       "<style>\n",
       "    .dataframe thead tr:only-child th {\n",
       "        text-align: right;\n",
       "    }\n",
       "\n",
       "    .dataframe thead th {\n",
       "        text-align: left;\n",
       "    }\n",
       "\n",
       "    .dataframe tbody tr th {\n",
       "        vertical-align: top;\n",
       "    }\n",
       "</style>\n",
       "<table border=\"1\" class=\"dataframe\">\n",
       "  <thead>\n",
       "    <tr style=\"text-align: right;\">\n",
       "      <th></th>\n",
       "      <th>release_year</th>\n",
       "      <th>genres</th>\n",
       "      <th>popularity</th>\n",
       "    </tr>\n",
       "  </thead>\n",
       "  <tbody>\n",
       "    <tr>\n",
       "      <th>5434</th>\n",
       "      <td>2015</td>\n",
       "      <td>Action|Adventure|Science Fiction|Thriller</td>\n",
       "      <td>30.702849</td>\n",
       "    </tr>\n",
       "    <tr>\n",
       "      <th>5210</th>\n",
       "      <td>2014</td>\n",
       "      <td>Adventure|Drama|Science Fiction</td>\n",
       "      <td>24.949134</td>\n",
       "    </tr>\n",
       "    <tr>\n",
       "      <th>5190</th>\n",
       "      <td>2014</td>\n",
       "      <td>Action|Science Fiction|Adventure</td>\n",
       "      <td>14.311205</td>\n",
       "    </tr>\n",
       "    <tr>\n",
       "      <th>5473</th>\n",
       "      <td>2015</td>\n",
       "      <td>Adventure|Science Fiction|Thriller</td>\n",
       "      <td>13.112507</td>\n",
       "    </tr>\n",
       "    <tr>\n",
       "      <th>5168</th>\n",
       "      <td>2014</td>\n",
       "      <td>Action|Adventure|Science Fiction</td>\n",
       "      <td>12.971027</td>\n",
       "    </tr>\n",
       "    <tr>\n",
       "      <th>563</th>\n",
       "      <td>1977</td>\n",
       "      <td>Adventure|Action|Science Fiction</td>\n",
       "      <td>12.037933</td>\n",
       "    </tr>\n",
       "    <tr>\n",
       "      <th>5432</th>\n",
       "      <td>2015</td>\n",
       "      <td>Action|Adventure|Science Fiction|Fantasy</td>\n",
       "      <td>11.173104</td>\n",
       "    </tr>\n",
       "    <tr>\n",
       "      <th>5372</th>\n",
       "      <td>2014</td>\n",
       "      <td>Science Fiction|Adventure|Thriller</td>\n",
       "      <td>10.739009</td>\n",
       "    </tr>\n",
       "    <tr>\n",
       "      <th>4040</th>\n",
       "      <td>2009</td>\n",
       "      <td>Action|Adventure|Fantasy|Science Fiction</td>\n",
       "      <td>9.432768</td>\n",
       "    </tr>\n",
       "    <tr>\n",
       "      <th>4307</th>\n",
       "      <td>2010</td>\n",
       "      <td>Action|Thriller|Science Fiction|Mystery|Adventure</td>\n",
       "      <td>9.363643</td>\n",
       "    </tr>\n",
       "  </tbody>\n",
       "</table>\n",
       "</div>"
      ],
      "text/plain": [
       "      release_year                                             genres  \\\n",
       "5434          2015          Action|Adventure|Science Fiction|Thriller   \n",
       "5210          2014                    Adventure|Drama|Science Fiction   \n",
       "5190          2014                   Action|Science Fiction|Adventure   \n",
       "5473          2015                 Adventure|Science Fiction|Thriller   \n",
       "5168          2014                   Action|Adventure|Science Fiction   \n",
       "563           1977                   Adventure|Action|Science Fiction   \n",
       "5432          2015           Action|Adventure|Science Fiction|Fantasy   \n",
       "5372          2014                 Science Fiction|Adventure|Thriller   \n",
       "4040          2009           Action|Adventure|Fantasy|Science Fiction   \n",
       "4307          2010  Action|Thriller|Science Fiction|Mystery|Adventure   \n",
       "\n",
       "      popularity  \n",
       "5434   30.702849  \n",
       "5210   24.949134  \n",
       "5190   14.311205  \n",
       "5473   13.112507  \n",
       "5168   12.971027  \n",
       "563    12.037933  \n",
       "5432   11.173104  \n",
       "5372   10.739009  \n",
       "4040    9.432768  \n",
       "4307    9.363643  "
      ]
     },
     "execution_count": 66,
     "metadata": {},
     "output_type": "execute_result"
    }
   ],
   "source": [
    "# Top genres by release year based on popularity\n",
    "df4.nlargest(10,'popularity')"
   ]
  },
  {
   "cell_type": "code",
   "execution_count": 67,
   "metadata": {
    "collapsed": true
   },
   "outputs": [],
   "source": [
    "# Providing new sequential index to the dataframe\n",
    "df4=df4.reset_index()"
   ]
  },
  {
   "cell_type": "code",
   "execution_count": 68,
   "metadata": {
    "collapsed": true
   },
   "outputs": [],
   "source": [
    "# Sorting dataframe in ascending order by release year and popularity\n",
    "df4=df4.sort_values(['release_year','popularity'],ascending=False)"
   ]
  },
  {
   "cell_type": "code",
   "execution_count": 69,
   "metadata": {
    "collapsed": true
   },
   "outputs": [],
   "source": [
    "# Top genres by popularity and release year\n",
    "df5=df4.groupby('release_year').head(1) "
   ]
  },
  {
   "cell_type": "code",
   "execution_count": 109,
   "metadata": {},
   "outputs": [
    {
     "data": {
      "text/plain": [
       "<matplotlib.text.Text at 0x118c837b8>"
      ]
     },
     "execution_count": 109,
     "metadata": {},
     "output_type": "execute_result"
    },
    {
     "data": {
      "image/png": "[encoded data removed]",
      "text/plain": [
       "<matplotlib.figure.Figure at 0x118ad8d30>"
      ]
     },
     "metadata": {},
     "output_type": "display_data"
    }
   ],
   "source": [
    "# Trend based on most popular genre movies by release year\n",
    "plt.plot(df5.release_year,df5.popularity,color=\"purple\")\n",
    "plt.xlabel('Year')\n",
    "plt.ylabel('Popularity')\n",
    "plt.title('Most Popular Genre By Year')"
   ]
  },
  {
   "cell_type": "markdown",
   "metadata": {},
   "source": [
    "> **Observation**: Based on the above line chart visualization we can observe that there are two clear spikes as far as the popularity metric is concerned. One was between 1970-1980 with a popularity index between 10-15 and then after 2010 werein the index rose above 30. Through the analysis we observe that year 2015 included movies with the highest popularity which belonged to the 'Action|Adventure|Science Fiction|Thriller' genre."
   ]
  },
  {
   "cell_type": "markdown",
   "metadata": {},
   "source": [
    "### Research Question 4 : Which year had the least popular genre?"
   ]
  },
  {
   "cell_type": "code",
   "execution_count": 113,
   "metadata": {
    "collapsed": true
   },
   "outputs": [],
   "source": [
    "# Bottom genres by release year and popularity\n",
    "df6=df4.groupby('release_year').tail(1) "
   ]
  },
  {
   "cell_type": "code",
   "execution_count": 114,
   "metadata": {},
   "outputs": [],
   "source": [
    "df_least_pop=df6.sort_values(['popularity','release_year'],ascending=True)"
   ]
  },
  {
   "cell_type": "code",
   "execution_count": 116,
   "metadata": {},
   "outputs": [
    {
     "data": {
      "text/html": [
       "<div>\n",
       "<style>\n",
       "    .dataframe thead tr:only-child th {\n",
       "        text-align: right;\n",
       "    }\n",
       "\n",
       "    .dataframe thead th {\n",
       "        text-align: left;\n",
       "    }\n",
       "\n",
       "    .dataframe tbody tr th {\n",
       "        vertical-align: top;\n",
       "    }\n",
       "</style>\n",
       "<table border=\"1\" class=\"dataframe\">\n",
       "  <thead>\n",
       "    <tr style=\"text-align: right;\">\n",
       "      <th></th>\n",
       "      <th>index</th>\n",
       "      <th>release_year</th>\n",
       "      <th>genres</th>\n",
       "      <th>popularity</th>\n",
       "    </tr>\n",
       "  </thead>\n",
       "  <tbody>\n",
       "    <tr>\n",
       "      <th>5354</th>\n",
       "      <td>359</td>\n",
       "      <td>1971</td>\n",
       "      <td>Mystery|Comedy|Drama</td>\n",
       "      <td>0.000188</td>\n",
       "    </tr>\n",
       "    <tr>\n",
       "      <th>2433</th>\n",
       "      <td>3336</td>\n",
       "      <td>2005</td>\n",
       "      <td>Comedy|Mystery</td>\n",
       "      <td>0.000973</td>\n",
       "    </tr>\n",
       "    <tr>\n",
       "      <th>965</th>\n",
       "      <td>4815</td>\n",
       "      <td>2012</td>\n",
       "      <td>Crime|Drama|History|Documentary</td>\n",
       "      <td>0.001372</td>\n",
       "    </tr>\n",
       "    <tr>\n",
       "      <th>5161</th>\n",
       "      <td>549</td>\n",
       "      <td>1976</td>\n",
       "      <td>Horror|Mystery|Thriller|Crime</td>\n",
       "      <td>0.002381</td>\n",
       "    </tr>\n",
       "    <tr>\n",
       "      <th>4863</th>\n",
       "      <td>849</td>\n",
       "      <td>1982</td>\n",
       "      <td>Drama|Romance|Comedy</td>\n",
       "      <td>0.003659</td>\n",
       "    </tr>\n",
       "    <tr>\n",
       "      <th>1859</th>\n",
       "      <td>3929</td>\n",
       "      <td>2008</td>\n",
       "      <td>Documentary|Family</td>\n",
       "      <td>0.005391</td>\n",
       "    </tr>\n",
       "    <tr>\n",
       "      <th>1648</th>\n",
       "      <td>4115</td>\n",
       "      <td>2009</td>\n",
       "      <td>Animation|Science Fiction</td>\n",
       "      <td>0.005502</td>\n",
       "    </tr>\n",
       "    <tr>\n",
       "      <th>4501</th>\n",
       "      <td>1188</td>\n",
       "      <td>1987</td>\n",
       "      <td>Action|Crime</td>\n",
       "      <td>0.005529</td>\n",
       "    </tr>\n",
       "    <tr>\n",
       "      <th>1192</th>\n",
       "      <td>4533</td>\n",
       "      <td>2011</td>\n",
       "      <td>Adventure|Comedy|Fantasy</td>\n",
       "      <td>0.007304</td>\n",
       "    </tr>\n",
       "    <tr>\n",
       "      <th>5573</th>\n",
       "      <td>134</td>\n",
       "      <td>1964</td>\n",
       "      <td>Horror</td>\n",
       "      <td>0.008990</td>\n",
       "    </tr>\n",
       "  </tbody>\n",
       "</table>\n",
       "</div>"
      ],
      "text/plain": [
       "      index  release_year                           genres  popularity\n",
       "5354    359          1971             Mystery|Comedy|Drama    0.000188\n",
       "2433   3336          2005                   Comedy|Mystery    0.000973\n",
       "965    4815          2012  Crime|Drama|History|Documentary    0.001372\n",
       "5161    549          1976    Horror|Mystery|Thriller|Crime    0.002381\n",
       "4863    849          1982             Drama|Romance|Comedy    0.003659\n",
       "1859   3929          2008               Documentary|Family    0.005391\n",
       "1648   4115          2009        Animation|Science Fiction    0.005502\n",
       "4501   1188          1987                     Action|Crime    0.005529\n",
       "1192   4533          2011         Adventure|Comedy|Fantasy    0.007304\n",
       "5573    134          1964                           Horror    0.008990"
      ]
     },
     "execution_count": 116,
     "metadata": {},
     "output_type": "execute_result"
    }
   ],
   "source": [
    "# 10 Genres by least popularity by release year\n",
    "df_least_pop.head(10)"
   ]
  },
  {
   "cell_type": "code",
   "execution_count": 74,
   "metadata": {},
   "outputs": [
    {
     "data": {
      "text/plain": [
       "<matplotlib.text.Text at 0x117ff0550>"
      ]
     },
     "execution_count": 74,
     "metadata": {},
     "output_type": "execute_result"
    },
    {
     "data": {
      "image/png": "[encoded data removed]",
      "text/plain": [
       "<matplotlib.figure.Figure at 0x117f94c18>"
      ]
     },
     "metadata": {},
     "output_type": "display_data"
    }
   ],
   "source": [
    "# Trend line to observe least popular movies by year\n",
    "plt.plot(df6.release_year,df6.popularity,color=\"purple\")\n",
    "plt.xlabel('Year')\n",
    "plt.ylabel('Popularity')\n",
    "plt.title('Least Popular By Year')"
   ]
  },
  {
   "cell_type": "markdown",
   "metadata": {},
   "source": [
    "> **Observation**: As far as the least popular movies are concerned we observe major downfalls in 1971, 2005 & 2012. From the above line chart visualization we can infer that the least popular genre was 'Mystery|Comedy|Drama' from the year 1971."
   ]
  },
  {
   "cell_type": "markdown",
   "metadata": {},
   "source": [
    "### Research Question 5 : Who are the most profitable directors?"
   ]
  },
  {
   "cell_type": "code",
   "execution_count": 80,
   "metadata": {
    "collapsed": true
   },
   "outputs": [],
   "source": [
    "# Grouping directors based on revenue_adj, budget_adj , popularity and average vote\n",
    "df7 = df.groupby('director',as_index=False).agg({\"revenue_adj\": \"sum\",\"budget_adj\": \"sum\",\"popularity\":\"mean\",\"vote_average\":\"mean\"})"
   ]
  },
  {
   "cell_type": "code",
   "execution_count": 81,
   "metadata": {
    "collapsed": true
   },
   "outputs": [],
   "source": [
    "# Calculating Gross Margin\n",
    "df7['gross_margin'] = df7['revenue_adj'] - df7['budget_adj']"
   ]
  },
  {
   "cell_type": "code",
   "execution_count": 169,
   "metadata": {},
   "outputs": [
    {
     "name": "stdout",
     "output_type": "stream",
     "text": [
      "               director   revenue_adj    budget_adj  popularity  vote_average  \\\n",
      "4095   Steven Spielberg  1.520245e+10  2.151770e+09    1.875138      6.824138   \n",
      "1767      James Cameron  7.327221e+09  1.030992e+09    3.202686      6.844444   \n",
      "1476       George Lucas  6.313919e+09  4.697600e+08    3.910306      6.700000   \n",
      "3375      Peter Jackson  7.019848e+09  1.375725e+09    3.774454      7.000000   \n",
      "672      Chris Columbus  5.094077e+09  7.407345e+08    2.251037      6.400000   \n",
      "3685    Robert Zemeckis  5.655648e+09  1.328678e+09    1.977627      6.705882   \n",
      "2917        Michael Bay  5.460672e+09  1.501996e+09    2.023170      6.327273   \n",
      "1053        David Yates  4.177455e+09  7.830252e+08    5.126634      7.400000   \n",
      "4195         Tim Burton  4.529285e+09  1.328826e+09    1.923092      6.661111   \n",
      "742   Christopher Nolan  4.164262e+09  1.014694e+09    6.865185      7.577778   \n",
      "\n",
      "      gross_margin  \n",
      "4095  1.305068e+10  \n",
      "1767  6.296229e+09  \n",
      "1476  5.844159e+09  \n",
      "3375  5.644123e+09  \n",
      "672   4.353343e+09  \n",
      "3685  4.326970e+09  \n",
      "2917  3.958676e+09  \n",
      "1053  3.394430e+09  \n",
      "4195  3.200460e+09  \n",
      "742   3.149568e+09  \n"
     ]
    }
   ],
   "source": [
    "# Top 10 based on gross margin\n",
    "df8 = df7.nlargest(10,'gross_margin')\n",
    "\n",
    "# Printing dataframe\n",
    "print(df8)"
   ]
  },
  {
   "cell_type": "code",
   "execution_count": 84,
   "metadata": {},
   "outputs": [
    {
     "data": {
      "text/plain": [
       "<matplotlib.text.Text at 0x1183dc0f0>"
      ]
     },
     "execution_count": 84,
     "metadata": {},
     "output_type": "execute_result"
    },
    {
     "data": {
      "image/png": "[encoded data removed]",
      "text/plain": [
       "<matplotlib.figure.Figure at 0x114c8ef28>"
      ]
     },
     "metadata": {},
     "output_type": "display_data"
    }
   ],
   "source": [
    "# Visualizing Top Director based on gross margin\n",
    "sns.barplot(x=df8['director'], y=df8['gross_margin'])\n",
    "plt.xticks(rotation= 90)\n",
    "plt.xlabel('Directors')\n",
    "plt.ylabel('Gross Margin US$ ')\n",
    "plt.title('Top Director By Gross Margin')"
   ]
  },
  {
   "cell_type": "markdown",
   "metadata": {},
   "source": [
    "> **Observation**: From the visual we can clearly understand that the most profitable director among the popular director's is Steven Spielberg however the second set of popular and profitable directors are closely aligned for example James Cameron, George Lucas & Peter Jackson."
   ]
  },
  {
   "cell_type": "markdown",
   "metadata": {},
   "source": [
    "### Research Question 6 : Which year included the highest count of profitable director's making movies ?  "
   ]
  },
  {
   "cell_type": "code",
   "execution_count": 130,
   "metadata": {
    "collapsed": true
   },
   "outputs": [],
   "source": [
    "# Creating dataframe with the Top Director's list\n",
    "filter_list = ['Steven Spielberg', 'James Cameron', 'George Lucas','Peter Jackson','Chris Columbus',\n",
    "              'Robert Zemeckis','Michael Bay','David Yates','Tim Burton','Christopher Nolan']\n",
    "df_dir=df[df.director.isin(filter_list)]"
   ]
  },
  {
   "cell_type": "code",
   "execution_count": 131,
   "metadata": {},
   "outputs": [
    {
     "name": "stderr",
     "output_type": "stream",
     "text": [
      "/Users/animesh01/anaconda/lib/python3.6/site-packages/ipykernel_launcher.py:2: SettingWithCopyWarning: \n",
      "A value is trying to be set on a copy of a slice from a DataFrame.\n",
      "Try using .loc[row_indexer,col_indexer] = value instead\n",
      "\n",
      "See the caveats in the documentation: http://pandas.pydata.org/pandas-docs/stable/indexing.html#indexing-view-versus-copy\n",
      "  \n"
     ]
    }
   ],
   "source": [
    "# Calculate gross margin\n",
    "df_dir['gross_margin'] = df_dir['revenue_adj']-df_dir['budget_adj']"
   ]
  },
  {
   "cell_type": "code",
   "execution_count": 132,
   "metadata": {},
   "outputs": [
    {
     "data": {
      "text/plain": [
       "<matplotlib.text.Text at 0x118da1a90>"
      ]
     },
     "execution_count": 132,
     "metadata": {},
     "output_type": "execute_result"
    },
    {
     "data": {
      "image/png": "[encoded data removed]",
      "text/plain": [
       "<matplotlib.figure.Figure at 0x118b8f630>"
      ]
     },
     "metadata": {},
     "output_type": "display_data"
    }
   ],
   "source": [
    "# Box plot visual to check the distribution of Gross margin by director\n",
    "sns.boxplot(x='director', y=\"gross_margin\", data=df_dir)\n",
    "plt.xticks(rotation= 90)\n",
    "plt.xlabel('Directors')\n",
    "plt.ylabel('Gross Margin US$ ')\n",
    "plt.title('Distribution of Top Directors By Gross Margin')"
   ]
  },
  {
   "cell_type": "markdown",
   "metadata": {},
   "source": [
    "> **Observation** : Based on the visualization we conclude that except for Steven Spielberg, Tim Burton, George Lucas & James Cameron rest all the popular and profitable directors are uniformly distributed and don't have any crazy outliers in terms of gross margin. "
   ]
  },
  {
   "cell_type": "code",
   "execution_count": 133,
   "metadata": {
    "collapsed": true
   },
   "outputs": [],
   "source": [
    "# Grouping director by release year\n",
    "df_dir1 = df_dir.groupby(['release_year','director']).size().sort_values(ascending=False).reset_index(name='count').drop_duplicates(subset='director')"
   ]
  },
  {
   "cell_type": "code",
   "execution_count": 134,
   "metadata": {},
   "outputs": [
    {
     "data": {
      "text/html": [
       "<div>\n",
       "<style>\n",
       "    .dataframe thead tr:only-child th {\n",
       "        text-align: right;\n",
       "    }\n",
       "\n",
       "    .dataframe thead th {\n",
       "        text-align: left;\n",
       "    }\n",
       "\n",
       "    .dataframe tbody tr th {\n",
       "        vertical-align: top;\n",
       "    }\n",
       "</style>\n",
       "<table border=\"1\" class=\"dataframe\">\n",
       "  <thead>\n",
       "    <tr style=\"text-align: right;\">\n",
       "      <th></th>\n",
       "      <th>release_year</th>\n",
       "      <th>director</th>\n",
       "      <th>count</th>\n",
       "    </tr>\n",
       "  </thead>\n",
       "  <tbody>\n",
       "    <tr>\n",
       "      <th>0</th>\n",
       "      <td>2012</td>\n",
       "      <td>Tim Burton</td>\n",
       "      <td>2</td>\n",
       "    </tr>\n",
       "    <tr>\n",
       "      <th>1</th>\n",
       "      <td>2000</td>\n",
       "      <td>Robert Zemeckis</td>\n",
       "      <td>2</td>\n",
       "    </tr>\n",
       "    <tr>\n",
       "      <th>2</th>\n",
       "      <td>1993</td>\n",
       "      <td>Steven Spielberg</td>\n",
       "      <td>2</td>\n",
       "    </tr>\n",
       "    <tr>\n",
       "      <th>10</th>\n",
       "      <td>1991</td>\n",
       "      <td>Chris Columbus</td>\n",
       "      <td>1</td>\n",
       "    </tr>\n",
       "    <tr>\n",
       "      <th>12</th>\n",
       "      <td>1991</td>\n",
       "      <td>James Cameron</td>\n",
       "      <td>1</td>\n",
       "    </tr>\n",
       "    <tr>\n",
       "      <th>15</th>\n",
       "      <td>1992</td>\n",
       "      <td>Peter Jackson</td>\n",
       "      <td>1</td>\n",
       "    </tr>\n",
       "    <tr>\n",
       "      <th>25</th>\n",
       "      <td>1995</td>\n",
       "      <td>Michael Bay</td>\n",
       "      <td>1</td>\n",
       "    </tr>\n",
       "    <tr>\n",
       "      <th>34</th>\n",
       "      <td>1998</td>\n",
       "      <td>Christopher Nolan</td>\n",
       "      <td>1</td>\n",
       "    </tr>\n",
       "    <tr>\n",
       "      <th>36</th>\n",
       "      <td>1973</td>\n",
       "      <td>George Lucas</td>\n",
       "      <td>1</td>\n",
       "    </tr>\n",
       "    <tr>\n",
       "      <th>70</th>\n",
       "      <td>2009</td>\n",
       "      <td>David Yates</td>\n",
       "      <td>1</td>\n",
       "    </tr>\n",
       "  </tbody>\n",
       "</table>\n",
       "</div>"
      ],
      "text/plain": [
       "    release_year           director  count\n",
       "0           2012         Tim Burton      2\n",
       "1           2000    Robert Zemeckis      2\n",
       "2           1993   Steven Spielberg      2\n",
       "10          1991     Chris Columbus      1\n",
       "12          1991      James Cameron      1\n",
       "15          1992      Peter Jackson      1\n",
       "25          1995        Michael Bay      1\n",
       "34          1998  Christopher Nolan      1\n",
       "36          1973       George Lucas      1\n",
       "70          2009        David Yates      1"
      ]
     },
     "execution_count": 134,
     "metadata": {},
     "output_type": "execute_result"
    }
   ],
   "source": [
    "# Printing the dataframe\n",
    "print(df_dir1)"
   ]
  },
  {
   "cell_type": "code",
   "execution_count": 135,
   "metadata": {},
   "outputs": [
    {
     "data": {
      "text/plain": [
       "<matplotlib.text.Text at 0x119133198>"
      ]
     },
     "execution_count": 135,
     "metadata": {},
     "output_type": "execute_result"
    },
    {
     "data": {
      "image/png": "[encoded data removed]",
      "text/plain": [
       "<matplotlib.figure.Figure at 0x118b777b8>"
      ]
     },
     "metadata": {},
     "output_type": "display_data"
    }
   ],
   "source": [
    "# Visualizaing which year had highest count of top profitable directors making movies\n",
    "sns.barplot(x='release_year',y='count',data=df_dir1,estimator=sum)\n",
    "plt.xticks(rotation= 90)\n",
    "plt.xlabel('Year')\n",
    "plt.ylabel('Count of Directors')\n",
    "plt.title('Evaluating Top Ten Directors Count By Year')"
   ]
  },
  {
   "cell_type": "markdown",
   "metadata": {},
   "source": [
    "> **Observation** : As we observe from the above visualization the year wherein the most number of popular director's made movies are in the year 1991, 1993, 2000 & 2012."
   ]
  },
  {
   "cell_type": "markdown",
   "metadata": {},
   "source": [
    "### Research Question 7 : Does high vote count insure high profitability for a movie?"
   ]
  },
  {
   "cell_type": "code",
   "execution_count": 163,
   "metadata": {},
   "outputs": [
    {
     "name": "stderr",
     "output_type": "stream",
     "text": [
      "/Users/animesh01/anaconda/lib/python3.6/site-packages/ipykernel_launcher.py:1: SettingWithCopyWarning: \n",
      "A value is trying to be set on a copy of a slice from a DataFrame.\n",
      "Try using .loc[row_indexer,col_indexer] = value instead\n",
      "\n",
      "See the caveats in the documentation: http://pandas.pydata.org/pandas-docs/stable/indexing.html#indexing-view-versus-copy\n",
      "  \"\"\"Entry point for launching an IPython kernel.\n"
     ]
    }
   ],
   "source": [
    "# Dataframe includes movies from the most profitable directors\n",
    "df_dir['gross_margin'] = df_dir['revenue_adj']-df_dir['budget_adj']\n",
    "df_dir2 = df_dir.groupby(['release_year','director','original_title','production_companies'], as_index=False).agg({'gross_margin': 'sum','vote_count': 'sum'})"
   ]
  },
  {
   "cell_type": "code",
   "execution_count": 164,
   "metadata": {
    "collapsed": true
   },
   "outputs": [],
   "source": [
    "df_dir3 = df_dir2.sort_values(['gross_margin'],ascending=False)"
   ]
  },
  {
   "cell_type": "code",
   "execution_count": 171,
   "metadata": {},
   "outputs": [],
   "source": [
    "df_dir3 = df_dir3.head(5)"
   ]
  },
  {
   "cell_type": "code",
   "execution_count": 179,
   "metadata": {},
   "outputs": [
    {
     "data": {
      "text/plain": [
       "<matplotlib.text.Text at 0x119fce940>"
      ]
     },
     "execution_count": 179,
     "metadata": {},
     "output_type": "execute_result"
    },
    {
     "data": {
      "image/png": "[encoded data removed]",
      "text/plain": [
       "<matplotlib.figure.Figure at 0x119db1fd0>"
      ]
     },
     "metadata": {},
     "output_type": "display_data"
    }
   ],
   "source": [
    "# Visualizaing movies (from profitable directors) with highest gross margin based on vote_count\n",
    "sns.barplot(x='original_title', y='vote_count', data = df_dir3, estimator=sum)\n",
    "plt.xticks(rotation= 90)\n",
    "plt.xlabel('Movie Title')\n",
    "plt.ylabel('Total Votes')\n",
    "plt.title('Evaluating most profitable movies on vote count')"
   ]
  },
  {
   "cell_type": "code",
   "execution_count": 180,
   "metadata": {},
   "outputs": [
    {
     "data": {
      "text/plain": [
       "<matplotlib.text.Text at 0x11a11c550>"
      ]
     },
     "execution_count": 180,
     "metadata": {},
     "output_type": "execute_result"
    },
    {
     "data": {
      "image/png": "[encoded data removed]",
      "text/plain": [
       "<matplotlib.figure.Figure at 0x11a03d860>"
      ]
     },
     "metadata": {},
     "output_type": "display_data"
    }
   ],
   "source": [
    "# Visualizaing movies (from profitable directors) with highest gross margin \n",
    "sns.barplot(x='original_title', y='gross_margin', data = df_dir3, estimator=sum)\n",
    "plt.xticks(rotation= 90)\n",
    "plt.xlabel('Movie Title')\n",
    "plt.ylabel('Total Profit in US$')\n",
    "plt.title('Evaluating most profitable movies on gross margin')"
   ]
  },
  {
   "cell_type": "markdown",
   "metadata": {},
   "source": [
    "> **Observation** : vote_count is not a good measure of how profitable a movie is even though it gets directed by a bankable director. For example Inception had the highest vote count but it is still not the most profitable.\n",
    "Therefore we can't assume movies getting more votes will be profitable."
   ]
  },
  {
   "cell_type": "markdown",
   "metadata": {},
   "source": [
    "### Research Question 8 : Who are the most popular directors?"
   ]
  },
  {
   "cell_type": "code",
   "execution_count": 104,
   "metadata": {},
   "outputs": [],
   "source": [
    "# Checking top directors based on popularity and gross margin\n",
    "df9=df7.nlargest(10,['popularity','gross_margin'])"
   ]
  },
  {
   "cell_type": "code",
   "execution_count": 105,
   "metadata": {},
   "outputs": [
    {
     "data": {
      "text/html": [
       "<div>\n",
       "<style>\n",
       "    .dataframe thead tr:only-child th {\n",
       "        text-align: right;\n",
       "    }\n",
       "\n",
       "    .dataframe thead th {\n",
       "        text-align: left;\n",
       "    }\n",
       "\n",
       "    .dataframe tbody tr th {\n",
       "        vertical-align: top;\n",
       "    }\n",
       "</style>\n",
       "<table border=\"1\" class=\"dataframe\">\n",
       "  <thead>\n",
       "    <tr style=\"text-align: right;\">\n",
       "      <th></th>\n",
       "      <th>director</th>\n",
       "      <th>revenue_adj</th>\n",
       "      <th>budget_adj</th>\n",
       "      <th>popularity</th>\n",
       "      <th>vote_average</th>\n",
       "      <th>gross_margin</th>\n",
       "    </tr>\n",
       "  </thead>\n",
       "  <tbody>\n",
       "    <tr>\n",
       "      <th>789</th>\n",
       "      <td>Colin Trevorrow</td>\n",
       "      <td>1.396252e+09</td>\n",
       "      <td>1.387122e+08</td>\n",
       "      <td>16.696886</td>\n",
       "      <td>6.600000</td>\n",
       "      <td>1.257540e+09</td>\n",
       "    </tr>\n",
       "    <tr>\n",
       "      <th>2061</th>\n",
       "      <td>Joe Russo|Anthony Russo</td>\n",
       "      <td>6.583651e+08</td>\n",
       "      <td>1.565855e+08</td>\n",
       "      <td>12.971027</td>\n",
       "      <td>7.600000</td>\n",
       "      <td>5.017796e+08</td>\n",
       "    </tr>\n",
       "    <tr>\n",
       "      <th>626</th>\n",
       "      <td>Chad Stahelski|David Leitch</td>\n",
       "      <td>7.252661e+07</td>\n",
       "      <td>1.842182e+07</td>\n",
       "      <td>11.422751</td>\n",
       "      <td>7.000000</td>\n",
       "      <td>5.410479e+07</td>\n",
       "    </tr>\n",
       "    <tr>\n",
       "      <th>1137</th>\n",
       "      <td>Don Hall|Chris Williams</td>\n",
       "      <td>6.006485e+08</td>\n",
       "      <td>1.519800e+08</td>\n",
       "      <td>8.691294</td>\n",
       "      <td>7.800000</td>\n",
       "      <td>4.486685e+08</td>\n",
       "    </tr>\n",
       "    <tr>\n",
       "      <th>2514</th>\n",
       "      <td>Kyle Balda|Pierre Coffin</td>\n",
       "      <td>1.064192e+09</td>\n",
       "      <td>6.807997e+07</td>\n",
       "      <td>7.404165</td>\n",
       "      <td>6.500000</td>\n",
       "      <td>9.961120e+08</td>\n",
       "    </tr>\n",
       "    <tr>\n",
       "      <th>3096</th>\n",
       "      <td>MÃ¥ns MÃ¥rlind|BjÃ¶rn Stein</td>\n",
       "      <td>1.257461e+08</td>\n",
       "      <td>6.648210e+07</td>\n",
       "      <td>7.031452</td>\n",
       "      <td>6.000000</td>\n",
       "      <td>5.926404e+07</td>\n",
       "    </tr>\n",
       "    <tr>\n",
       "      <th>87</th>\n",
       "      <td>Alan Taylor</td>\n",
       "      <td>8.544311e+08</td>\n",
       "      <td>3.017256e+08</td>\n",
       "      <td>6.883129</td>\n",
       "      <td>6.300000</td>\n",
       "      <td>5.527055e+08</td>\n",
       "    </tr>\n",
       "    <tr>\n",
       "      <th>742</th>\n",
       "      <td>Christopher Nolan</td>\n",
       "      <td>4.164262e+09</td>\n",
       "      <td>1.014694e+09</td>\n",
       "      <td>6.865185</td>\n",
       "      <td>7.577778</td>\n",
       "      <td>3.149568e+09</td>\n",
       "    </tr>\n",
       "    <tr>\n",
       "      <th>3335</th>\n",
       "      <td>Pete Docter</td>\n",
       "      <td>7.854116e+08</td>\n",
       "      <td>1.609999e+08</td>\n",
       "      <td>6.326804</td>\n",
       "      <td>8.000000</td>\n",
       "      <td>6.244116e+08</td>\n",
       "    </tr>\n",
       "    <tr>\n",
       "      <th>120</th>\n",
       "      <td>Alex Garland</td>\n",
       "      <td>3.391985e+07</td>\n",
       "      <td>1.379999e+07</td>\n",
       "      <td>6.118847</td>\n",
       "      <td>7.600000</td>\n",
       "      <td>2.011985e+07</td>\n",
       "    </tr>\n",
       "  </tbody>\n",
       "</table>\n",
       "</div>"
      ],
      "text/plain": [
       "                         director   revenue_adj    budget_adj  popularity  \\\n",
       "789               Colin Trevorrow  1.396252e+09  1.387122e+08   16.696886   \n",
       "2061      Joe Russo|Anthony Russo  6.583651e+08  1.565855e+08   12.971027   \n",
       "626   Chad Stahelski|David Leitch  7.252661e+07  1.842182e+07   11.422751   \n",
       "1137      Don Hall|Chris Williams  6.006485e+08  1.519800e+08    8.691294   \n",
       "2514     Kyle Balda|Pierre Coffin  1.064192e+09  6.807997e+07    7.404165   \n",
       "3096  MÃ¥ns MÃ¥rlind|BjÃ¶rn Stein  1.257461e+08  6.648210e+07    7.031452   \n",
       "87                    Alan Taylor  8.544311e+08  3.017256e+08    6.883129   \n",
       "742             Christopher Nolan  4.164262e+09  1.014694e+09    6.865185   \n",
       "3335                  Pete Docter  7.854116e+08  1.609999e+08    6.326804   \n",
       "120                  Alex Garland  3.391985e+07  1.379999e+07    6.118847   \n",
       "\n",
       "      vote_average  gross_margin  \n",
       "789       6.600000  1.257540e+09  \n",
       "2061      7.600000  5.017796e+08  \n",
       "626       7.000000  5.410479e+07  \n",
       "1137      7.800000  4.486685e+08  \n",
       "2514      6.500000  9.961120e+08  \n",
       "3096      6.000000  5.926404e+07  \n",
       "87        6.300000  5.527055e+08  \n",
       "742       7.577778  3.149568e+09  \n",
       "3335      8.000000  6.244116e+08  \n",
       "120       7.600000  2.011985e+07  "
      ]
     },
     "execution_count": 105,
     "metadata": {},
     "output_type": "execute_result"
    }
   ],
   "source": [
    "# Printing dataframe\n",
    "df9"
   ]
  },
  {
   "cell_type": "code",
   "execution_count": 106,
   "metadata": {
    "collapsed": true
   },
   "outputs": [],
   "source": [
    "# Sorting dataframe by gross margin and popularity\n",
    "df9=df9.sort_values(['gross_margin','popularity'],ascending=False)"
   ]
  },
  {
   "cell_type": "code",
   "execution_count": 107,
   "metadata": {},
   "outputs": [
    {
     "data": {
      "text/plain": [
       "<matplotlib.text.Text at 0x11895d630>"
      ]
     },
     "execution_count": 107,
     "metadata": {},
     "output_type": "execute_result"
    },
    {
     "data": {
      "image/png": "[encoded data removed]",
      "text/plain": [
       "<matplotlib.figure.Figure at 0x1187e7400>"
      ]
     },
     "metadata": {},
     "output_type": "display_data"
    }
   ],
   "source": [
    "# Barchart visualization to check top director by popularity\n",
    "sns.barplot(x=df9['director'], y=df9['popularity'])\n",
    "plt.xticks(rotation= 90)\n",
    "plt.xlabel('Directors')\n",
    "plt.ylabel('Popularity ')\n",
    "plt.title('Top Director By Average Popularity')"
   ]
  },
  {
   "cell_type": "markdown",
   "metadata": {},
   "source": [
    "> **Observation** : In the above analysis we are categorizing director's solely on the aspect of popularity index.\n",
    "From the visual we can conclude that Colin Trevorrow is the most popular director having a popularity index of 16.69. "
   ]
  },
  {
   "cell_type": "code",
   "execution_count": 183,
   "metadata": {},
   "outputs": [
    {
     "data": {
      "text/plain": [
       "<matplotlib.text.Text at 0x11ab31160>"
      ]
     },
     "execution_count": 183,
     "metadata": {},
     "output_type": "execute_result"
    },
    {
     "data": {
      "image/png": "[encoded data removed]",
      "text/plain": [
       "<matplotlib.figure.Figure at 0x11a74cf28>"
      ]
     },
     "metadata": {},
     "output_type": "display_data"
    }
   ],
   "source": [
    "# Barchart visualization to check top director by gross margin\n",
    "sns.barplot(x=df9['director'], y=df9['gross_margin'],estimator=sum)\n",
    "plt.xticks(rotation= 90)\n",
    "plt.xlabel('Directors')\n",
    "plt.ylabel('Gross Margin US$ ')\n",
    "plt.title('Top director by average popularity & gross margin')"
   ]
  },
  {
   "cell_type": "markdown",
   "metadata": {},
   "source": [
    "> **Observation**: We can conclude from the above visualization that among the popular director's Christopher Nolan is the most profitable director and after him we have the most popular director as the second most profitable director Colin Trevorrow. "
   ]
  },
  {
   "cell_type": "markdown",
   "metadata": {},
   "source": [
    "### Research Question 9 : Does the success of a movie depend on production company ?"
   ]
  },
  {
   "cell_type": "code",
   "execution_count": 205,
   "metadata": {},
   "outputs": [
    {
     "data": {
      "text/html": [
       "<div>\n",
       "<style>\n",
       "    .dataframe thead tr:only-child th {\n",
       "        text-align: right;\n",
       "    }\n",
       "\n",
       "    .dataframe thead th {\n",
       "        text-align: left;\n",
       "    }\n",
       "\n",
       "    .dataframe tbody tr th {\n",
       "        vertical-align: top;\n",
       "    }\n",
       "</style>\n",
       "<table border=\"1\" class=\"dataframe\">\n",
       "  <thead>\n",
       "    <tr style=\"text-align: right;\">\n",
       "      <th></th>\n",
       "      <th></th>\n",
       "      <th>gross_margin</th>\n",
       "      <th>production_companies</th>\n",
       "    </tr>\n",
       "    <tr>\n",
       "      <th>director</th>\n",
       "      <th>production_companies</th>\n",
       "      <th></th>\n",
       "      <th></th>\n",
       "    </tr>\n",
       "  </thead>\n",
       "  <tbody>\n",
       "    <tr>\n",
       "      <th rowspan=\"2\" valign=\"top\">Steven Spielberg</th>\n",
       "      <th>Universal Pictures|Amblin Entertainment</th>\n",
       "      <td>3.725489e+09</td>\n",
       "      <td>4</td>\n",
       "    </tr>\n",
       "    <tr>\n",
       "      <th>Lucasfilm|Paramount Pictures</th>\n",
       "      <td>2.891116e+09</td>\n",
       "      <td>4</td>\n",
       "    </tr>\n",
       "    <tr>\n",
       "      <th>George Lucas</th>\n",
       "      <th>Lucasfilm|Twentieth Century Fox Film Corporation</th>\n",
       "      <td>2.750137e+09</td>\n",
       "      <td>1</td>\n",
       "    </tr>\n",
       "    <tr>\n",
       "      <th>James Cameron</th>\n",
       "      <th>Ingenious Film Partners|Twentieth Century Fox Film Corporation|Dune Entertainment|Lightstorm Entertainment</th>\n",
       "      <td>2.586237e+09</td>\n",
       "      <td>1</td>\n",
       "    </tr>\n",
       "    <tr>\n",
       "      <th>George Lucas</th>\n",
       "      <th>Lucasfilm</th>\n",
       "      <td>2.524116e+09</td>\n",
       "      <td>3</td>\n",
       "    </tr>\n",
       "    <tr>\n",
       "      <th>James Cameron</th>\n",
       "      <th>Paramount Pictures|Twentieth Century Fox Film Corporation|Lightstorm Entertainment</th>\n",
       "      <td>2.234714e+09</td>\n",
       "      <td>1</td>\n",
       "    </tr>\n",
       "    <tr>\n",
       "      <th>Peter Jackson</th>\n",
       "      <th>WingNut Films|New Line Cinema|The Saul Zaentz Company</th>\n",
       "      <td>1.985685e+09</td>\n",
       "      <td>2</td>\n",
       "    </tr>\n",
       "    <tr>\n",
       "      <th>Steven Spielberg</th>\n",
       "      <th>Universal Pictures|Zanuck/Brown Productions</th>\n",
       "      <td>1.921981e+09</td>\n",
       "      <td>2</td>\n",
       "    </tr>\n",
       "    <tr>\n",
       "      <th>Robert Zemeckis</th>\n",
       "      <th>Universal Pictures|Amblin Entertainment|U-Drive Productions</th>\n",
       "      <td>1.589016e+09</td>\n",
       "      <td>3</td>\n",
       "    </tr>\n",
       "    <tr>\n",
       "      <th>David Yates</th>\n",
       "      <th>Warner Bros.|Heyday Films</th>\n",
       "      <td>1.399482e+09</td>\n",
       "      <td>2</td>\n",
       "    </tr>\n",
       "    <tr>\n",
       "      <th>Peter Jackson</th>\n",
       "      <th>WingNut Films|New Line Cinema|Metro-Goldwyn-Mayer (MGM)</th>\n",
       "      <td>1.391543e+09</td>\n",
       "      <td>2</td>\n",
       "    </tr>\n",
       "    <tr>\n",
       "      <th>Chris Columbus</th>\n",
       "      <th>Twentieth Century Fox Film Corporation|Hughes Entertainment</th>\n",
       "      <td>1.330361e+09</td>\n",
       "      <td>3</td>\n",
       "    </tr>\n",
       "    <tr>\n",
       "      <th>Michael Bay</th>\n",
       "      <th>Paramount Pictures|DreamWorks SKG|Amblin Entertainment|Di Bonaventura Pictures|Platinum Dunes</th>\n",
       "      <td>1.286182e+09</td>\n",
       "      <td>2</td>\n",
       "    </tr>\n",
       "    <tr>\n",
       "      <th>Peter Jackson</th>\n",
       "      <th>WingNut Films|New Line Cinema</th>\n",
       "      <td>1.214855e+09</td>\n",
       "      <td>1</td>\n",
       "    </tr>\n",
       "    <tr>\n",
       "      <th>David Yates</th>\n",
       "      <th>Warner Bros.|Heyday Films|Moving Picture Company (MPC)</th>\n",
       "      <td>1.166009e+09</td>\n",
       "      <td>1</td>\n",
       "    </tr>\n",
       "  </tbody>\n",
       "</table>\n",
       "</div>"
      ],
      "text/plain": [
       "                                                                     gross_margin  \\\n",
       "director         production_companies                                               \n",
       "Steven Spielberg Universal Pictures|Amblin Entertainment             3.725489e+09   \n",
       "                 Lucasfilm|Paramount Pictures                        2.891116e+09   \n",
       "George Lucas     Lucasfilm|Twentieth Century Fox Film Corporation    2.750137e+09   \n",
       "James Cameron    Ingenious Film Partners|Twentieth Century Fox F...  2.586237e+09   \n",
       "George Lucas     Lucasfilm                                           2.524116e+09   \n",
       "James Cameron    Paramount Pictures|Twentieth Century Fox Film C...  2.234714e+09   \n",
       "Peter Jackson    WingNut Films|New Line Cinema|The Saul Zaentz C...  1.985685e+09   \n",
       "Steven Spielberg Universal Pictures|Zanuck/Brown Productions         1.921981e+09   \n",
       "Robert Zemeckis  Universal Pictures|Amblin Entertainment|U-Drive...  1.589016e+09   \n",
       "David Yates      Warner Bros.|Heyday Films                           1.399482e+09   \n",
       "Peter Jackson    WingNut Films|New Line Cinema|Metro-Goldwyn-May...  1.391543e+09   \n",
       "Chris Columbus   Twentieth Century Fox Film Corporation|Hughes E...  1.330361e+09   \n",
       "Michael Bay      Paramount Pictures|DreamWorks SKG|Amblin Entert...  1.286182e+09   \n",
       "Peter Jackson    WingNut Films|New Line Cinema                       1.214855e+09   \n",
       "David Yates      Warner Bros.|Heyday Films|Moving Picture Compan...  1.166009e+09   \n",
       "\n",
       "                                                                     production_companies  \n",
       "director         production_companies                                                      \n",
       "Steven Spielberg Universal Pictures|Amblin Entertainment                                4  \n",
       "                 Lucasfilm|Paramount Pictures                                           4  \n",
       "George Lucas     Lucasfilm|Twentieth Century Fox Film Corporation                       1  \n",
       "James Cameron    Ingenious Film Partners|Twentieth Century Fox F...                     1  \n",
       "George Lucas     Lucasfilm                                                              3  \n",
       "James Cameron    Paramount Pictures|Twentieth Century Fox Film C...                     1  \n",
       "Peter Jackson    WingNut Films|New Line Cinema|The Saul Zaentz C...                     2  \n",
       "Steven Spielberg Universal Pictures|Zanuck/Brown Productions                            2  \n",
       "Robert Zemeckis  Universal Pictures|Amblin Entertainment|U-Drive...                     3  \n",
       "David Yates      Warner Bros.|Heyday Films                                              2  \n",
       "Peter Jackson    WingNut Films|New Line Cinema|Metro-Goldwyn-May...                     2  \n",
       "Chris Columbus   Twentieth Century Fox Film Corporation|Hughes E...                     3  \n",
       "Michael Bay      Paramount Pictures|DreamWorks SKG|Amblin Entert...                     2  \n",
       "Peter Jackson    WingNut Films|New Line Cinema                                          1  \n",
       "David Yates      Warner Bros.|Heyday Films|Moving Picture Compan...                     1  "
      ]
     },
     "execution_count": 205,
     "metadata": {},
     "output_type": "execute_result"
    }
   ],
   "source": [
    "# Including the profitable directors\n",
    "df_comp = df_dir.groupby(['director','production_companies']).agg({'gross_margin':sum, \n",
    "                                                                   'production_companies':\"count\"})\n",
    "# Top 15 based on gross margin\n",
    "df_comp.nlargest(15,'gross_margin') "
   ]
  },
  {
   "cell_type": "code",
   "execution_count": 210,
   "metadata": {},
   "outputs": [
    {
     "name": "stderr",
     "output_type": "stream",
     "text": [
      "/Users/animesh01/anaconda/lib/python3.6/site-packages/ipykernel_launcher.py:5: SettingWithCopyWarning: \n",
      "A value is trying to be set on a copy of a slice from a DataFrame.\n",
      "Try using .loc[row_indexer,col_indexer] = value instead\n",
      "\n",
      "See the caveats in the documentation: http://pandas.pydata.org/pandas-docs/stable/indexing.html#indexing-view-versus-copy\n",
      "  \"\"\"\n"
     ]
    },
    {
     "data": {
      "text/html": [
       "<div>\n",
       "<style>\n",
       "    .dataframe thead tr:only-child th {\n",
       "        text-align: right;\n",
       "    }\n",
       "\n",
       "    .dataframe thead th {\n",
       "        text-align: left;\n",
       "    }\n",
       "\n",
       "    .dataframe tbody tr th {\n",
       "        vertical-align: top;\n",
       "    }\n",
       "</style>\n",
       "<table border=\"1\" class=\"dataframe\">\n",
       "  <thead>\n",
       "    <tr style=\"text-align: right;\">\n",
       "      <th></th>\n",
       "      <th></th>\n",
       "      <th>gross_margin</th>\n",
       "      <th>production_companies</th>\n",
       "    </tr>\n",
       "    <tr>\n",
       "      <th>director</th>\n",
       "      <th>production_companies</th>\n",
       "      <th></th>\n",
       "      <th></th>\n",
       "    </tr>\n",
       "  </thead>\n",
       "  <tbody>\n",
       "    <tr>\n",
       "      <th>Colin Trevorrow</th>\n",
       "      <th>Universal Studios|Amblin Entertainment|Legendary Pictures|Fuji Television Network|Dentsu</th>\n",
       "      <td>1.254446e+09</td>\n",
       "      <td>1</td>\n",
       "    </tr>\n",
       "    <tr>\n",
       "      <th>Kyle Balda|Pierre Coffin</th>\n",
       "      <th>Universal Pictures|Illumination Entertainment</th>\n",
       "      <td>9.961120e+08</td>\n",
       "      <td>1</td>\n",
       "    </tr>\n",
       "    <tr>\n",
       "      <th rowspan=\"3\" valign=\"top\">Christopher Nolan</th>\n",
       "      <th>DC Comics|Legendary Pictures|Warner Bros.|Syncopy</th>\n",
       "      <td>8.273675e+08</td>\n",
       "      <td>1</td>\n",
       "    </tr>\n",
       "    <tr>\n",
       "      <th>Legendary Pictures|Warner Bros.|DC Entertainment|Syncopy</th>\n",
       "      <td>7.892767e+08</td>\n",
       "      <td>1</td>\n",
       "    </tr>\n",
       "    <tr>\n",
       "      <th>Legendary Pictures|Warner Bros.|Syncopy</th>\n",
       "      <td>6.655000e+08</td>\n",
       "      <td>1</td>\n",
       "    </tr>\n",
       "    <tr>\n",
       "      <th>Pete Docter</th>\n",
       "      <th>Walt Disney Pictures|Pixar Animation Studios|Walt Disney Studios Motion Pictures</th>\n",
       "      <td>6.244116e+08</td>\n",
       "      <td>1</td>\n",
       "    </tr>\n",
       "    <tr>\n",
       "      <th>Joe Russo|Anthony Russo</th>\n",
       "      <th>Marvel Studios</th>\n",
       "      <td>5.017796e+08</td>\n",
       "      <td>1</td>\n",
       "    </tr>\n",
       "    <tr>\n",
       "      <th>Don Hall|Chris Williams</th>\n",
       "      <th>Walt Disney Pictures|Walt Disney Animation Studios</th>\n",
       "      <td>4.486685e+08</td>\n",
       "      <td>1</td>\n",
       "    </tr>\n",
       "    <tr>\n",
       "      <th>Christopher Nolan</th>\n",
       "      <th>Paramount Pictures|Legendary Pictures|Warner Bros.|Syncopy|Lynda Obst Productions</th>\n",
       "      <td>4.207106e+08</td>\n",
       "      <td>1</td>\n",
       "    </tr>\n",
       "    <tr>\n",
       "      <th rowspan=\"2\" valign=\"top\">Alan Taylor</th>\n",
       "      <th>Marvel Studios</th>\n",
       "      <td>2.899504e+08</td>\n",
       "      <td>1</td>\n",
       "    </tr>\n",
       "    <tr>\n",
       "      <th>Paramount Pictures|Skydance Productions</th>\n",
       "      <td>2.627551e+08</td>\n",
       "      <td>1</td>\n",
       "    </tr>\n",
       "    <tr>\n",
       "      <th rowspan=\"3\" valign=\"top\">Christopher Nolan</th>\n",
       "      <th>DC Comics|Legendary Pictures|Warner Bros.|DC Entertainment|Syncopy</th>\n",
       "      <td>2.503543e+08</td>\n",
       "      <td>1</td>\n",
       "    </tr>\n",
       "    <tr>\n",
       "      <th>Section Eight|Alcon Entertainment|Witt/Thomas Productions</th>\n",
       "      <td>8.208807e+07</td>\n",
       "      <td>1</td>\n",
       "    </tr>\n",
       "    <tr>\n",
       "      <th>Touchstone Pictures|Syncopy</th>\n",
       "      <td>7.536672e+07</td>\n",
       "      <td>1</td>\n",
       "    </tr>\n",
       "    <tr>\n",
       "      <th>MÃ¥ns MÃ¥rlind|BjÃ¶rn Stein</th>\n",
       "      <th>Lakeshore Entertainment|Saturn Films|Screen Gems|Sketch Films|UW4 Productions</th>\n",
       "      <td>5.926404e+07</td>\n",
       "      <td>1</td>\n",
       "    </tr>\n",
       "  </tbody>\n",
       "</table>\n",
       "</div>"
      ],
      "text/plain": [
       "                                                                                gross_margin  \\\n",
       "director                    production_companies                                               \n",
       "Colin Trevorrow             Universal Studios|Amblin Entertainment|Legendar...  1.254446e+09   \n",
       "Kyle Balda|Pierre Coffin    Universal Pictures|Illumination Entertainment       9.961120e+08   \n",
       "Christopher Nolan           DC Comics|Legendary Pictures|Warner Bros.|Syncopy   8.273675e+08   \n",
       "                            Legendary Pictures|Warner Bros.|DC Entertainmen...  7.892767e+08   \n",
       "                            Legendary Pictures|Warner Bros.|Syncopy             6.655000e+08   \n",
       "Pete Docter                 Walt Disney Pictures|Pixar Animation Studios|Wa...  6.244116e+08   \n",
       "Joe Russo|Anthony Russo     Marvel Studios                                      5.017796e+08   \n",
       "Don Hall|Chris Williams     Walt Disney Pictures|Walt Disney Animation Studios  4.486685e+08   \n",
       "Christopher Nolan           Paramount Pictures|Legendary Pictures|Warner Br...  4.207106e+08   \n",
       "Alan Taylor                 Marvel Studios                                      2.899504e+08   \n",
       "                            Paramount Pictures|Skydance Productions             2.627551e+08   \n",
       "Christopher Nolan           DC Comics|Legendary Pictures|Warner Bros.|DC En...  2.503543e+08   \n",
       "                            Section Eight|Alcon Entertainment|Witt/Thomas P...  8.208807e+07   \n",
       "                            Touchstone Pictures|Syncopy                         7.536672e+07   \n",
       "MÃ¥ns MÃ¥rlind|BjÃ¶rn Stein Lakeshore Entertainment|Saturn Films|Screen Gem...  5.926404e+07   \n",
       "\n",
       "                                                                                production_companies  \n",
       "director                    production_companies                                                      \n",
       "Colin Trevorrow             Universal Studios|Amblin Entertainment|Legendar...                     1  \n",
       "Kyle Balda|Pierre Coffin    Universal Pictures|Illumination Entertainment                          1  \n",
       "Christopher Nolan           DC Comics|Legendary Pictures|Warner Bros.|Syncopy                      1  \n",
       "                            Legendary Pictures|Warner Bros.|DC Entertainmen...                     1  \n",
       "                            Legendary Pictures|Warner Bros.|Syncopy                                1  \n",
       "Pete Docter                 Walt Disney Pictures|Pixar Animation Studios|Wa...                     1  \n",
       "Joe Russo|Anthony Russo     Marvel Studios                                                         1  \n",
       "Don Hall|Chris Williams     Walt Disney Pictures|Walt Disney Animation Studios                     1  \n",
       "Christopher Nolan           Paramount Pictures|Legendary Pictures|Warner Br...                     1  \n",
       "Alan Taylor                 Marvel Studios                                                         1  \n",
       "                            Paramount Pictures|Skydance Productions                                1  \n",
       "Christopher Nolan           DC Comics|Legendary Pictures|Warner Bros.|DC En...                     1  \n",
       "                            Section Eight|Alcon Entertainment|Witt/Thomas P...                     1  \n",
       "                            Touchstone Pictures|Syncopy                                            1  \n",
       "MÃ¥ns MÃ¥rlind|BjÃ¶rn Stein Lakeshore Entertainment|Saturn Films|Screen Gem...                     1  "
      ]
     },
     "execution_count": 210,
     "metadata": {},
     "output_type": "execute_result"
    }
   ],
   "source": [
    "# Creating dataframe with the Popular Director's list\n",
    "filter_list_pop = ['Colin Trevorrow', 'Joe Russo|Anthony Russo', 'Chad Stahelski|David Leitch','Don Hall|Chris Williams','Kyle Balda|Pierre Coffin',\n",
    "              'MÃ¥ns MÃ¥rlind|BjÃ¶rn Stein','Alan Taylor','Christopher Nolan','Pete Docter','Alex Garland']\n",
    "\n",
    "# Creating dataframe from the popular director list\n",
    "df_dir_pop=df[df.director.isin(filter_list_pop)]\n",
    "\n",
    "# Calculate gross margin \n",
    "df_dir_pop['gross_margin'] = df_dir_pop['revenue_adj'] - df_dir_pop['budget_adj']\n",
    "\n",
    "# Aggregate data based on gross margin and production company\n",
    "df_comp_pop = df_dir_pop.groupby(['director','production_companies']).agg({'gross_margin':sum, \n",
    "                                                                   'production_companies':\"count\"})\n",
    "# Top 15 based on gross margin\n",
    "df_comp_pop.nlargest(15,'gross_margin') \n",
    "\n"
   ]
  },
  {
   "cell_type": "markdown",
   "metadata": {},
   "source": [
    "> Therefore we can observe that profitable directors are backed by bigger and successful production companies more often in comparison to the popular directors.\n",
    "We can attribute that being one of the reasons for the success of a movie."
   ]
  },
  {
   "cell_type": "markdown",
   "metadata": {},
   "source": [
    "<a id='conclusions'></a>\n",
    "## Conclusions\n",
    "\n",
    "> From the above exploratory data analysis we have the following conclusions:\n",
    "\n",
    "> 1.We initially categorized popularity and revenue_adj as the two attributes on which we would conduct our analysis.\n",
    "\n",
    "> 2.Rather than solely evaluating a movie on revenue we understood that gross margin is a better measure to observe if a movie is successful/profitable.\n",
    "\n",
    "> 3.'Action|Adventure|Science Fiction|Thriller' is the most popular genre.\n",
    "\n",
    "> 4.Movies which are financially more successful may not be directed by the most popular directors as we know that only christopher nolan from the profitable directors list was part of the popular directors list.\n",
    "\n",
    "> 5.Profitable and more successful movies are usually backed by bigger production companies.\n",
    "\n",
    "> 6.Popularity and higher profit is driven by more bankable director's (Individuals who have had more occurrences of financial sucess compared to those who have had a good popularity index).\n"
   ]
  }
 ],
 "metadata": {
  "kernelspec": {
   "display_name": "Python 3",
   "language": "python",
   "name": "python3"
  },
  "language_info": {
   "codemirror_mode": {
    "name": "ipython",
    "version": 3
   },
   "file_extension": ".py",
   "mimetype": "text/x-python",
   "name": "python",
   "nbconvert_exporter": "python",
   "pygments_lexer": "ipython3",
   "version": "3.6.1"
  }
 },
 "nbformat": 4,
 "nbformat_minor": 2
}
